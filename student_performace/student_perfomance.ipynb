{
 "cells": [
  {
   "cell_type": "markdown",
   "id": "2e0d49eb-3363-46a1-a40b-c54e62acc5a9",
   "metadata": {
    "tags": []
   },
   "source": [
    "# **Student Performance in Exams**\n",
    "#### The goal of this project is to find the feature(s) of the dataset that best correlate to students getting high grades and build a classification model with these features.  \n",
    "\n",
    "**Dataset feature(s):**\n",
    "\n",
    "1. gender: sex of students\n",
    "1. race/ethnicity: ethnicity of students\n",
    "1. parental level of education: parents' final education\n",
    "1. lunch: having lunch before the test (normal or abnormal)\n",
    "1. test preparation course: complete or not complete before the test\n",
    "1. math score: score in math exam \n",
    "1. reading score: score in reading exam \n",
    "1. writing score: score in writing exam \n",
    "\n",
    "**Hypothesis:** The features likely to play a major role in student test scores are the other test scores, when predicting one test score there is a greater likelihood that students will have other high scores.\n",
    "\n",
    "The **[Students Performance in Exams](https://www.kaggle.com/spscientist/students-performance-in-exams)** dataset was chosen because:\n",
    "* It was reasonably sized at 1000 samples \n",
    "* It had no crippling imbalances in the data \n",
    "* It was a complete dataset with no missing entries\n",
    "\n",
    "## How to run notebook\n",
    "\n",
    "To run this notebook create the following folders in the notebook location:\n",
    "\n",
    "* Datasets\n",
    "* Feature_Selection/RF\n",
    "* Feature_Selection/SVM\n",
    "* Figures/RF\n",
    "* Figures/SVM\n",
    "* Reports/RF\n",
    "* Reports/SVM\n",
    "\n",
    "Download the dataset from the link in the notebook and place in the datasets folder.\n"
   ]
  },
  {
   "cell_type": "code",
   "execution_count": 1,
   "id": "05ea0949-c8c4-43bf-935e-117badc33558",
   "metadata": {},
   "outputs": [],
   "source": [
    "# Libraries to be imported\n",
    "import os\n",
    "import pandas as pd \n",
    "import matplotlib.pyplot as plt\n",
    "import numpy as np\n",
    "import seaborn as sns\n",
    "from sklearn.preprocessing import LabelEncoder\n",
    "from sklearn.preprocessing import StandardScaler\n",
    "from sklearn.model_selection import train_test_split\n",
    "from sklearn.model_selection import GridSearchCV\n",
    "from sklearn.ensemble import RandomForestClassifier\n",
    "from sklearn import tree\n",
    "from sklearn.svm import SVC\n",
    "from sklearn.metrics import confusion_matrix, accuracy_score, \\\n",
    "    precision_score, recall_score, f1_score, classification_report, ConfusionMatrixDisplay\n",
    "from sklearn.model_selection import StratifiedKFold\n",
    "from sklearn.feature_selection import RFECV\n",
    "from IPython.display import Image, display"
   ]
  },
  {
   "cell_type": "markdown",
   "id": "cca99933-0fa9-4905-91b8-c1ff5d4bb619",
   "metadata": {
    "tags": []
   },
   "source": [
    "### **Data Preparation and Analysis Summary** \n",
    "The Pandas Library will be used for analysis because it offers a wide array of functions to prepare and analyse data. \n",
    "* Spaces and special characters in column names could complicate certain coding tasks; therefore, these were removed\n",
    "* String values were encoded as they are not valid inputs to a machine learning algorithm \n",
    "* Gender features were balanced whereas the remaining features were unbalanced to some degree\n",
    "* Math, reading and writing scores have too many unique values which make classification more difficult so they were placed into balanced groups using the summary stats from the describe() function \n",
    "    * Math, reading and writing scores follow the expected Gaussian distribution \n",
    "* No missing values in the dataset    "
   ]
  },
  {
   "cell_type": "code",
   "execution_count": 2,
   "id": "e4a20f44-ead8-495d-b4e4-80eae8f87ac6",
   "metadata": {},
   "outputs": [
    {
     "data": {
      "text/html": [
       "<div>\n",
       "<style scoped>\n",
       "    .dataframe tbody tr th:only-of-type {\n",
       "        vertical-align: middle;\n",
       "    }\n",
       "\n",
       "    .dataframe tbody tr th {\n",
       "        vertical-align: top;\n",
       "    }\n",
       "\n",
       "    .dataframe thead th {\n",
       "        text-align: right;\n",
       "    }\n",
       "</style>\n",
       "<table border=\"1\" class=\"dataframe\">\n",
       "  <thead>\n",
       "    <tr style=\"text-align: right;\">\n",
       "      <th></th>\n",
       "      <th>gender</th>\n",
       "      <th>race/ethnicity</th>\n",
       "      <th>parental level of education</th>\n",
       "      <th>lunch</th>\n",
       "      <th>test preparation course</th>\n",
       "      <th>math score</th>\n",
       "      <th>reading score</th>\n",
       "      <th>writing score</th>\n",
       "    </tr>\n",
       "  </thead>\n",
       "  <tbody>\n",
       "    <tr>\n",
       "      <th>0</th>\n",
       "      <td>female</td>\n",
       "      <td>group B</td>\n",
       "      <td>bachelor's degree</td>\n",
       "      <td>standard</td>\n",
       "      <td>none</td>\n",
       "      <td>72</td>\n",
       "      <td>72</td>\n",
       "      <td>74</td>\n",
       "    </tr>\n",
       "    <tr>\n",
       "      <th>1</th>\n",
       "      <td>female</td>\n",
       "      <td>group C</td>\n",
       "      <td>some college</td>\n",
       "      <td>standard</td>\n",
       "      <td>completed</td>\n",
       "      <td>69</td>\n",
       "      <td>90</td>\n",
       "      <td>88</td>\n",
       "    </tr>\n",
       "    <tr>\n",
       "      <th>2</th>\n",
       "      <td>female</td>\n",
       "      <td>group B</td>\n",
       "      <td>master's degree</td>\n",
       "      <td>standard</td>\n",
       "      <td>none</td>\n",
       "      <td>90</td>\n",
       "      <td>95</td>\n",
       "      <td>93</td>\n",
       "    </tr>\n",
       "    <tr>\n",
       "      <th>3</th>\n",
       "      <td>male</td>\n",
       "      <td>group A</td>\n",
       "      <td>associate's degree</td>\n",
       "      <td>free/reduced</td>\n",
       "      <td>none</td>\n",
       "      <td>47</td>\n",
       "      <td>57</td>\n",
       "      <td>44</td>\n",
       "    </tr>\n",
       "    <tr>\n",
       "      <th>4</th>\n",
       "      <td>male</td>\n",
       "      <td>group C</td>\n",
       "      <td>some college</td>\n",
       "      <td>standard</td>\n",
       "      <td>none</td>\n",
       "      <td>76</td>\n",
       "      <td>78</td>\n",
       "      <td>75</td>\n",
       "    </tr>\n",
       "  </tbody>\n",
       "</table>\n",
       "</div>"
      ],
      "text/plain": [
       "   gender race/ethnicity parental level of education         lunch  \\\n",
       "0  female        group B           bachelor's degree      standard   \n",
       "1  female        group C                some college      standard   \n",
       "2  female        group B             master's degree      standard   \n",
       "3    male        group A          associate's degree  free/reduced   \n",
       "4    male        group C                some college      standard   \n",
       "\n",
       "  test preparation course  math score  reading score  writing score  \n",
       "0                    none          72             72             74  \n",
       "1               completed          69             90             88  \n",
       "2                    none          90             95             93  \n",
       "3                    none          47             57             44  \n",
       "4                    none          76             78             75  "
      ]
     },
     "execution_count": 2,
     "metadata": {},
     "output_type": "execute_result"
    }
   ],
   "source": [
    "# Visualise dataset\n",
    "DATASET = \"Datasets/StudentsPerformance.csv\"\n",
    "data = pd.read_csv(DATASET) # Get dataset from CSV file \n",
    "data.head()"
   ]
  },
  {
   "cell_type": "code",
   "execution_count": 3,
   "id": "d356992a-cfa0-4b08-a945-3ef0c54bdbb8",
   "metadata": {},
   "outputs": [
    {
     "data": {
      "text/html": [
       "<div>\n",
       "<style scoped>\n",
       "    .dataframe tbody tr th:only-of-type {\n",
       "        vertical-align: middle;\n",
       "    }\n",
       "\n",
       "    .dataframe tbody tr th {\n",
       "        vertical-align: top;\n",
       "    }\n",
       "\n",
       "    .dataframe thead th {\n",
       "        text-align: right;\n",
       "    }\n",
       "</style>\n",
       "<table border=\"1\" class=\"dataframe\">\n",
       "  <thead>\n",
       "    <tr style=\"text-align: right;\">\n",
       "      <th></th>\n",
       "      <th>gender</th>\n",
       "      <th>ethnicity</th>\n",
       "      <th>parent_education</th>\n",
       "      <th>lunch</th>\n",
       "      <th>prep_course</th>\n",
       "      <th>math_score</th>\n",
       "      <th>reading_score</th>\n",
       "      <th>writing_score</th>\n",
       "    </tr>\n",
       "  </thead>\n",
       "  <tbody>\n",
       "    <tr>\n",
       "      <th>0</th>\n",
       "      <td>female</td>\n",
       "      <td>group B</td>\n",
       "      <td>bachelor's degree</td>\n",
       "      <td>standard</td>\n",
       "      <td>none</td>\n",
       "      <td>72</td>\n",
       "      <td>72</td>\n",
       "      <td>74</td>\n",
       "    </tr>\n",
       "    <tr>\n",
       "      <th>1</th>\n",
       "      <td>female</td>\n",
       "      <td>group C</td>\n",
       "      <td>some college</td>\n",
       "      <td>standard</td>\n",
       "      <td>completed</td>\n",
       "      <td>69</td>\n",
       "      <td>90</td>\n",
       "      <td>88</td>\n",
       "    </tr>\n",
       "    <tr>\n",
       "      <th>2</th>\n",
       "      <td>female</td>\n",
       "      <td>group B</td>\n",
       "      <td>master's degree</td>\n",
       "      <td>standard</td>\n",
       "      <td>none</td>\n",
       "      <td>90</td>\n",
       "      <td>95</td>\n",
       "      <td>93</td>\n",
       "    </tr>\n",
       "    <tr>\n",
       "      <th>3</th>\n",
       "      <td>male</td>\n",
       "      <td>group A</td>\n",
       "      <td>associate's degree</td>\n",
       "      <td>free/reduced</td>\n",
       "      <td>none</td>\n",
       "      <td>47</td>\n",
       "      <td>57</td>\n",
       "      <td>44</td>\n",
       "    </tr>\n",
       "    <tr>\n",
       "      <th>4</th>\n",
       "      <td>male</td>\n",
       "      <td>group C</td>\n",
       "      <td>some college</td>\n",
       "      <td>standard</td>\n",
       "      <td>none</td>\n",
       "      <td>76</td>\n",
       "      <td>78</td>\n",
       "      <td>75</td>\n",
       "    </tr>\n",
       "  </tbody>\n",
       "</table>\n",
       "</div>"
      ],
      "text/plain": [
       "   gender ethnicity    parent_education         lunch prep_course  math_score  \\\n",
       "0  female   group B   bachelor's degree      standard        none          72   \n",
       "1  female   group C        some college      standard   completed          69   \n",
       "2  female   group B     master's degree      standard        none          90   \n",
       "3    male   group A  associate's degree  free/reduced        none          47   \n",
       "4    male   group C        some college      standard        none          76   \n",
       "\n",
       "   reading_score  writing_score  \n",
       "0             72             74  \n",
       "1             90             88  \n",
       "2             95             93  \n",
       "3             57             44  \n",
       "4             78             75  "
      ]
     },
     "execution_count": 3,
     "metadata": {},
     "output_type": "execute_result"
    }
   ],
   "source": [
    "# Rename columns to be easier to work with \n",
    "data.rename(columns={\"race/ethnicity\":\"ethnicity\",\"parental level of education\":\"parent_education\"\n",
    "                    ,\"math score\":\"math_score\",\"reading score\":\"reading_score\",\"writing score\":\"writing_score\",\n",
    "                    \"test preparation course\":\"prep_course\"},inplace=True)\n",
    "data.head()"
   ]
  },
  {
   "cell_type": "code",
   "execution_count": 4,
   "id": "fd414fa9-0fb2-4c5c-a2f8-d844ba95f162",
   "metadata": {},
   "outputs": [],
   "source": [
    "def get_features(df):\n",
    "    \"\"\"\n",
    "    Gets the features in a dataframe\n",
    "    :param df (dataframe): dataframe to get features from\n",
    "    :return features (list): return a list of the features\n",
    "    \"\"\"\n",
    "    # Create a features list\n",
    "    features = []\n",
    "\n",
    "    # Get the shape of the dataset\n",
    "    dfshape = df.shape\n",
    "\n",
    "    # Append dataset column names to the features list\n",
    "    for i in range(0, dfshape[1]): \n",
    "        features.append(df.columns[i])\n",
    "    \n",
    "    return features"
   ]
  },
  {
   "cell_type": "code",
   "execution_count": 5,
   "id": "b84bad5a-6386-4bc6-ba7a-e872119ef424",
   "metadata": {},
   "outputs": [],
   "source": [
    "# Get features for the current dataset \n",
    "features = get_features(data)"
   ]
  },
  {
   "cell_type": "code",
   "execution_count": 6,
   "id": "382f20a0-7ed3-4597-a55a-7fc8c92cef33",
   "metadata": {},
   "outputs": [
    {
     "name": "stdout",
     "output_type": "stream",
     "text": [
      "<class 'pandas.core.frame.DataFrame'>\n",
      "RangeIndex: 1000 entries, 0 to 999\n",
      "Data columns (total 8 columns):\n",
      " #   Column            Non-Null Count  Dtype \n",
      "---  ------            --------------  ----- \n",
      " 0   gender            1000 non-null   object\n",
      " 1   ethnicity         1000 non-null   object\n",
      " 2   parent_education  1000 non-null   object\n",
      " 3   lunch             1000 non-null   object\n",
      " 4   prep_course       1000 non-null   object\n",
      " 5   math_score        1000 non-null   int64 \n",
      " 6   reading_score     1000 non-null   int64 \n",
      " 7   writing_score     1000 non-null   int64 \n",
      "dtypes: int64(3), object(5)\n",
      "memory usage: 62.6+ KB\n"
     ]
    }
   ],
   "source": [
    "# Displays the names of columns, the data types they contain, \n",
    "# and whether they have any missing values.\n",
    "data.info()"
   ]
  },
  {
   "cell_type": "code",
   "execution_count": 7,
   "id": "848d5068-047b-463e-8d01-00dc29f9b20b",
   "metadata": {},
   "outputs": [
    {
     "data": {
      "text/plain": [
       "gender               2\n",
       "ethnicity            5\n",
       "parent_education     6\n",
       "lunch                2\n",
       "prep_course          2\n",
       "math_score          81\n",
       "reading_score       72\n",
       "writing_score       77\n",
       "dtype: int64"
      ]
     },
     "execution_count": 7,
     "metadata": {},
     "output_type": "execute_result"
    }
   ],
   "source": [
    "# Get the number of unique values in each of the columns \n",
    "data.nunique()"
   ]
  },
  {
   "cell_type": "code",
   "execution_count": 8,
   "id": "fa9c9fe6-5ad2-4839-9c55-396e9a025ea6",
   "metadata": {},
   "outputs": [
    {
     "name": "stdout",
     "output_type": "stream",
     "text": [
      "       math_score  reading_score  writing_score\n",
      "count  1000.00000    1000.000000    1000.000000\n",
      "mean     66.08900      69.169000      68.054000\n",
      "std      15.16308      14.600192      15.195657\n",
      "min       0.00000      17.000000      10.000000\n",
      "25%      57.00000      59.000000      57.750000\n",
      "50%      66.00000      70.000000      69.000000\n",
      "75%      77.00000      79.000000      79.000000\n",
      "max     100.00000     100.000000     100.000000 \n",
      "\n"
     ]
    },
    {
     "data": {
      "text/html": [
       "<div>\n",
       "<style scoped>\n",
       "    .dataframe tbody tr th:only-of-type {\n",
       "        vertical-align: middle;\n",
       "    }\n",
       "\n",
       "    .dataframe tbody tr th {\n",
       "        vertical-align: top;\n",
       "    }\n",
       "\n",
       "    .dataframe thead th {\n",
       "        text-align: right;\n",
       "    }\n",
       "</style>\n",
       "<table border=\"1\" class=\"dataframe\">\n",
       "  <thead>\n",
       "    <tr style=\"text-align: right;\">\n",
       "      <th></th>\n",
       "      <th>gender</th>\n",
       "      <th>ethnicity</th>\n",
       "      <th>parent_education</th>\n",
       "      <th>lunch</th>\n",
       "      <th>prep_course</th>\n",
       "    </tr>\n",
       "  </thead>\n",
       "  <tbody>\n",
       "    <tr>\n",
       "      <th>count</th>\n",
       "      <td>1000</td>\n",
       "      <td>1000</td>\n",
       "      <td>1000</td>\n",
       "      <td>1000</td>\n",
       "      <td>1000</td>\n",
       "    </tr>\n",
       "    <tr>\n",
       "      <th>unique</th>\n",
       "      <td>2</td>\n",
       "      <td>5</td>\n",
       "      <td>6</td>\n",
       "      <td>2</td>\n",
       "      <td>2</td>\n",
       "    </tr>\n",
       "    <tr>\n",
       "      <th>top</th>\n",
       "      <td>female</td>\n",
       "      <td>group C</td>\n",
       "      <td>some college</td>\n",
       "      <td>standard</td>\n",
       "      <td>none</td>\n",
       "    </tr>\n",
       "    <tr>\n",
       "      <th>freq</th>\n",
       "      <td>518</td>\n",
       "      <td>319</td>\n",
       "      <td>226</td>\n",
       "      <td>645</td>\n",
       "      <td>642</td>\n",
       "    </tr>\n",
       "  </tbody>\n",
       "</table>\n",
       "</div>"
      ],
      "text/plain": [
       "        gender ethnicity parent_education     lunch prep_course\n",
       "count     1000      1000             1000      1000        1000\n",
       "unique       2         5                6         2           2\n",
       "top     female   group C     some college  standard        none\n",
       "freq       518       319              226       645         642"
      ]
     },
     "execution_count": 8,
     "metadata": {},
     "output_type": "execute_result"
    }
   ],
   "source": [
    "# Returns some summary stats such as count,\n",
    "# mean, std, min, max and data types\n",
    "print(data.describe(), \"\\n\")\n",
    "data.describe(include=object) # Strings not included by default\n"
   ]
  },
  {
   "cell_type": "code",
   "execution_count": 9,
   "id": "c0b200a1-e59e-487d-8eca-031aed068ee4",
   "metadata": {},
   "outputs": [
    {
     "name": "stdout",
     "output_type": "stream",
     "text": [
      "<seaborn.axisgrid.FacetGrid object at 0x00000214FEFE2070>\n",
      "<seaborn.axisgrid.FacetGrid object at 0x0000021480002DF0>\n",
      "<seaborn.axisgrid.FacetGrid object at 0x000002148008E520>\n",
      "<seaborn.axisgrid.FacetGrid object at 0x00000214800021F0>\n",
      "<seaborn.axisgrid.FacetGrid object at 0x00000214800FBA90>\n",
      "<seaborn.axisgrid.FacetGrid object at 0x00000214801A43D0>\n",
      "<seaborn.axisgrid.FacetGrid object at 0x0000021480094BB0>\n",
      "<seaborn.axisgrid.FacetGrid object at 0x00000214802D5400>\n"
     ]
    },
    {
     "data": {
      "image/png": "[encoded data removed]",
      "text/plain": [
       "<Figure size 360x360 with 1 Axes>"
      ]
     },
     "metadata": {
      "needs_background": "light"
     },
     "output_type": "display_data"
    },
    {
     "data": {
      "image/png": "[encoded data removed]",
      "text/plain": [
       "<Figure size 360x360 with 1 Axes>"
      ]
     },
     "metadata": {
      "needs_background": "light"
     },
     "output_type": "display_data"
    },
    {
     "data": {
      "image/png": "[encoded data removed]",
      "text/plain": [
       "<Figure size 360x360 with 1 Axes>"
      ]
     },
     "metadata": {
      "needs_background": "light"
     },
     "output_type": "display_data"
    },
    {
     "data": {
      "image/png": "[encoded data removed]",
      "text/plain": [
       "<Figure size 360x360 with 1 Axes>"
      ]
     },
     "metadata": {
      "needs_background": "light"
     },
     "output_type": "display_data"
    },
    {
     "data": {
      "image/png": "[encoded data removed]",
      "text/plain": [
       "<Figure size 360x360 with 1 Axes>"
      ]
     },
     "metadata": {
      "needs_background": "light"
     },
     "output_type": "display_data"
    },
    {
     "data": {
      "image/png": "[encoded data removed]",
      "text/plain": [
       "<Figure size 360x360 with 1 Axes>"
      ]
     },
     "metadata": {
      "needs_background": "light"
     },
     "output_type": "display_data"
    },
    {
     "data": {
      "image/png": "[encoded data removed]",
      "text/plain": [
       "<Figure size 360x360 with 1 Axes>"
      ]
     },
     "metadata": {
      "needs_background": "light"
     },
     "output_type": "display_data"
    },
    {
     "data": {
      "image/png": "[encoded data removed]",
      "text/plain": [
       "<Figure size 360x360 with 1 Axes>"
      ]
     },
     "metadata": {
      "needs_background": "light"
     },
     "output_type": "display_data"
    }
   ],
   "source": [
    "# Create graphs to visualise the balance of the dataset\n",
    "for feature in features:\n",
    "    print(sns.displot(data[feature]))\n",
    "    plt.xticks(rotation=45, ha=\"right\", rotation_mode=\"anchor\")\n",
    "    plt.title(\"Data Distribution of {}\".format(feature))\n",
    " "
   ]
  },
  {
   "cell_type": "markdown",
   "id": "55371952-364c-42d7-b841-ca8a6b50203b",
   "metadata": {},
   "source": [
    "Seaborn displot function autamatically puts score data into groups but they are still unbalanced "
   ]
  },
  {
   "cell_type": "code",
   "execution_count": 10,
   "id": "5ea147e6-bb3a-4aa8-9d9b-9582e60dfde6",
   "metadata": {},
   "outputs": [],
   "source": [
    "# Visualise exact values to help in grouping data \n",
    "def print_full_col(col_name):\n",
    "    \"\"\"\n",
    "    Prints the full index sorted column of the number a value appears in the column\n",
    "    :param col_name (str): Name of the column to print\n",
    "    \"\"\"\n",
    "    sorted_data = data[col_name].value_counts().sort_index(ascending=True)\n",
    "    with pd.option_context('display.max_rows', None,\n",
    "                           'display.max_columns', None,\n",
    "                           'display.precision', 3,\n",
    "                           ):\n",
    "        print(sorted_data)"
   ]
  },
  {
   "cell_type": "code",
   "execution_count": 11,
   "id": "d3260dfb-5a58-4e27-8d9e-0dce179439c9",
   "metadata": {},
   "outputs": [
    {
     "name": "stdout",
     "output_type": "stream",
     "text": [
      "0       1\n",
      "8       1\n",
      "18      1\n",
      "19      1\n",
      "22      1\n",
      "23      1\n",
      "24      1\n",
      "26      1\n",
      "27      2\n",
      "28      1\n",
      "29      3\n",
      "30      2\n",
      "32      3\n",
      "33      1\n",
      "34      2\n",
      "35      5\n",
      "36      2\n",
      "37      4\n",
      "38      3\n",
      "39      4\n",
      "40     10\n",
      "41      6\n",
      "42      6\n",
      "43      5\n",
      "44      9\n",
      "45      9\n",
      "46     11\n",
      "47     11\n",
      "48     11\n",
      "49     17\n",
      "50     15\n",
      "51     11\n",
      "52     18\n",
      "53     24\n",
      "54     18\n",
      "55     18\n",
      "56      9\n",
      "57     18\n",
      "58     25\n",
      "59     32\n",
      "60     16\n",
      "61     27\n",
      "62     35\n",
      "63     26\n",
      "64     20\n",
      "65     36\n",
      "66     24\n",
      "67     26\n",
      "68     26\n",
      "69     32\n",
      "70     18\n",
      "71     26\n",
      "72     18\n",
      "73     27\n",
      "74     25\n",
      "75     21\n",
      "76     21\n",
      "77     24\n",
      "78     14\n",
      "79     22\n",
      "80     17\n",
      "81     22\n",
      "82     18\n",
      "83      8\n",
      "84     11\n",
      "85     14\n",
      "86      8\n",
      "87     16\n",
      "88     15\n",
      "89      6\n",
      "90      8\n",
      "91      9\n",
      "92      6\n",
      "93      4\n",
      "94      7\n",
      "95      2\n",
      "96      3\n",
      "97      6\n",
      "98      3\n",
      "99      3\n",
      "100     7\n",
      "Name: math_score, dtype: int64\n"
     ]
    }
   ],
   "source": [
    "print_full_col(\"math_score\")"
   ]
  },
  {
   "cell_type": "markdown",
   "id": "5e5c8122-06a7-493f-bffc-a24c804020a6",
   "metadata": {},
   "source": [
    "# **Grouping scores**\n",
    "\n",
    "The dataset had too many unique values for the test scores which would result in poor performance. To resolve this issue four different groupings were tested and their performance evaluated.\n",
    "\n",
    "### **Group selection methods**\n",
    "\n",
    "In the previous section the pandas function data.describe() was used to get the mean of the different scores, these means were 66, 69 and 68 for maths, reading and writing respectively. These values were used to get an even split of data in the smaller groups, the groups were consistent across all score ranges for comparison and code complexity reduction.\n",
    "\n",
    "### **Ten Classes**\n",
    "\n",
    "* This grouping was used to see if it was possible to maintain good separation of the individual test scores \n",
    "* The minimum group was around 40 whilst the highest was around 140 for each of the scores. Although not perfectly balanced this compromise was made so the grouping would make sense\n",
    "\n",
    "### **Four Classes**\n",
    "\n",
    "* This grouping followed the same principle as the ten classes but with fewer classes to get a better accuracy  \n",
    "* The minimum for a group was around 200 data points whereas the maximum was around 300 making for a relatively more balanced spread of data than Ten classes\n",
    "\n",
    "### **Three Classes**\n",
    "\n",
    "* This grouping was to check if it was possible to get a separation between the higher-performing students\n",
    "\n",
    "### **Two Classes**\n",
    "\n",
    "* This grouping was used to produce the highest accuracy results \n",
    "* The minimum for a group was around 450 meaning that each class had a balanced distribution\n",
    "\n",
    "### **Selecting Different Groups**\n",
    "\n",
    "To reduce code complexity a manual method for testing all the groups was implemented. To test through all the different groups uncomment the desired \"names\" and \"bins\" leaving the rest of the groups commented then change the \"GROUP_PATH\" variable keeping the same naming format as this is used to save graphs and figures for those tests.\n"
   ]
  },
  {
   "cell_type": "code",
   "execution_count": 12,
   "id": "af54d9ec-f9cc-4e38-9972-30a4787fd733",
   "metadata": {},
   "outputs": [],
   "source": [
    "# Pandas cut() function is used to separate the array elements into different bins.\n",
    "# The cut function is mainly used to perform statistical analysis on scalar data. \n",
    "# The bins are the diffenret groups to split the data into \n",
    "\n",
    "# Mean of the mean scores ~ 67 (66+68+69)/3\n",
    "# No need to complicate results by using different values when they are so close\n",
    "\n",
    "# Two Classes\n",
    "bins = [-1, 67, 100]  \n",
    "names = [\"=<67\", \">=68\"]\n",
    "\n",
    "# Three classes\n",
    "#bins = [-1, 66, 77, 100]  # clost to mean values\n",
    "#names = [\"=<66\", \"67-77\", \">=78\"]\n",
    "\n",
    "# Four classes\n",
    "#bins = [-1, 57, 66, 77, 100]  # clost to mean values\n",
    "#names = [\"=<57\",\"58-66\", \"67-77\", \">=78\"]\n",
    "\n",
    "# Ten Classes\n",
    "#bins = [-1, 45, 50, 55, 60, 65, 70, 75, 80, 85, 90, 100]  # -1 required so 0 values are included\n",
    "#names = [\"=<45\",\"46-50\", \"51-55\", \"56-60\", \"61-65\", \"66-70\", \"71-75\",\"76-80\", \"81-85\", \"86-90\", \"91-100\"]\n",
    "\n",
    "score_cols = [\"math_score\", \"reading_score\", \"writing_score\"]\n",
    "ranged_score_cols = [\"math_score_range\", \"reading_score_range\", \"writing_score_range\"]\n",
    "\n",
    "# Name of classes to add to the path when saving\n",
    "GROUP_PATH = \"Two_classes_\" \n",
    "\n",
    "# This loop is here so the cell can be run multiple times without throwing \n",
    "# an error due to the columns being already deleted\n",
    "for col, new_col in zip(score_cols, ranged_score_cols):\n",
    "    if col in data.columns:\n",
    "        data[new_col] = pd.cut(data[col], bins, labels=names)\n"
   ]
  },
  {
   "cell_type": "code",
   "execution_count": 13,
   "id": "924f1f55-83fc-41a6-ad85-044507463ef4",
   "metadata": {},
   "outputs": [
    {
     "data": {
      "image/png": "[encoded data removed]",
      "text/plain": [
       "<Figure size 360x360 with 1 Axes>"
      ]
     },
     "metadata": {
      "needs_background": "light"
     },
     "output_type": "display_data"
    },
    {
     "data": {
      "image/png": "[encoded data removed]",
      "text/plain": [
       "<Figure size 360x360 with 1 Axes>"
      ]
     },
     "metadata": {
      "needs_background": "light"
     },
     "output_type": "display_data"
    },
    {
     "data": {
      "image/png": "[encoded data removed]",
      "text/plain": [
       "<Figure size 360x360 with 1 Axes>"
      ]
     },
     "metadata": {
      "needs_background": "light"
     },
     "output_type": "display_data"
    }
   ],
   "source": [
    "# Plot score range \n",
    "for col in ranged_score_cols:\n",
    "    sns.displot(data[col])\n",
    "    plt.xticks(rotation=45, ha=\"right\", rotation_mode=\"anchor\")\n",
    "    plt.title(\"Data Distribution of {}\".format(col))"
   ]
  },
  {
   "cell_type": "markdown",
   "id": "df087e37-e307-44da-8d01-879007fbc1fa",
   "metadata": {
    "tags": []
   },
   "source": [
    "# **Model selection and training**\n",
    "\n",
    "The models that will be tested are a Support Vector Machine and Random Forest \n",
    "\n",
    "### **SVM**\n",
    "* Multiclass classfication \n",
    "* Good General-purpose algorithm \n",
    "* Better performance when data has clear margins \n",
    "\n",
    "### **RF**\n",
    "* Built in feature impontance \n",
    "* Multiclass classfication \n",
    "* Decision trees are simpler to visualise \n"
   ]
  },
  {
   "cell_type": "code",
   "execution_count": 14,
   "id": "de71126a-7252-4685-a417-a6e46704c90e",
   "metadata": {},
   "outputs": [],
   "source": [
    "# This loop is here so the cell can be run multiple times without throwing \n",
    "# an error due to the columns being already deleted\n",
    "for col in score_cols:\n",
    "    if col in data.columns:\n",
    "        data = data.drop(columns=col)\n",
    "\n",
    "features = get_features(data)\n",
    "# Encode features \n",
    "for i in range (0, len(features)):\n",
    "    if type(data[features[i]][1]) == str:\n",
    "        le = LabelEncoder()\n",
    "        data[features[i]] = le.fit_transform(data[features[i]])"
   ]
  },
  {
   "cell_type": "code",
   "execution_count": 15,
   "id": "1840cb4c-b56d-416a-b5be-3c5cfa0321ca",
   "metadata": {},
   "outputs": [],
   "source": [
    "def get_file_names(path):\n",
    "    \"\"\"\n",
    "    Returns the file names of the relative path given, the relative path is from the notebook file location\n",
    "    :param path (str): relative path to get files e.g. \"Test/Path\"\n",
    "    \"\"\"\n",
    "    dir_path = os.getcwd()\n",
    "    f_names = os.listdir(dir_path + \"/\" + path)\n",
    "    if \".ipynb_checkpoints\" in f_names:\n",
    "        f_names.remove(\".ipynb_checkpoints\") # First element is an unwanted file\n",
    "    return f_names\n",
    "    "
   ]
  },
  {
   "cell_type": "code",
   "execution_count": 16,
   "id": "e9b5a516-be66-4710-b02a-8cd98de00951",
   "metadata": {},
   "outputs": [],
   "source": [
    "# This function is used to save classfication reports from multiple runs \n",
    "def save_report_csv(y_true, y_pred, targets, path):\n",
    "    \"\"\"\n",
    "    Save classification reports as csv file \n",
    "    :param y_true (Any): The true values \n",
    "    :param y_pred (Any): The predicted values \n",
    "    :param targets (Any): The targets \n",
    "    :param path (str): Path to save the report     \n",
    "    \"\"\"\n",
    "    report = classification_report(y_true, y_pred, zero_division=0, target_names=targets, output_dict=True)\n",
    "\n",
    "    # Get the same format as unmodified report\n",
    "    report.update({\"accuracy\": {\"precision\": None, \"recall\": None, \"f1-score\": report[\"accuracy\"],\n",
    "                                \"support\": report['macro avg']['support']}})\n",
    "    df = pd.DataFrame(report).transpose()\n",
    "    df.to_csv(path)"
   ]
  },
  {
   "cell_type": "markdown",
   "id": "403a142a-bee8-4355-afe3-91871320adc0",
   "metadata": {
    "tags": []
   },
   "source": [
    "# **Random Forest Implmentation**\n",
    "\n",
    "This code creates feature importance, classification report, confusion matrix and tree plot for the best estimator. \n",
    "\n",
    "GridSearchCV() is a function that can be used to find the best estimator when given a parameter grid. Documentation was used to get the hyperparameters for the random forest. The below parameters were tested to see the impact on the model, with very little change for computation of over 20 minutes, these parameters have little impact on the optimisation and can be left at default values. The best estimator is decided by the one that gives the highest accuracy in predictions.\n",
    " \n",
    "* \"criterion\":[\"gini\", \"entropy\"],\n",
    "* \"min_samples_split\": [10, 50, 100],\n",
    "* \"max_features\": [\"auto\", \"sqrt\", \"log2\"],\n",
    "* \"oob_score\": [True, False]}\n"
   ]
  },
  {
   "cell_type": "code",
   "execution_count": 17,
   "id": "3ba94d8d-03be-495f-973c-a8e128b76604",
   "metadata": {},
   "outputs": [
    {
     "name": "stdout",
     "output_type": "stream",
     "text": [
      "Fitting 5 folds for each of 60 candidates, totalling 300 fits\n"
     ]
    }
   ],
   "source": [
    "# Defining parameter range\n",
    "param_grid_rf = {\"max_depth\": [2, 8, 16],\n",
    "                 \"max_leaf_nodes\": [25, 50, 75, 100],\n",
    "                 \"n_jobs\": [-1],\n",
    "                 \"n_estimators\": [64, 128, 256, 512, 1024]}\n",
    "\n",
    "# The best estimator for each score is saved as it's overwritten in multiple runs \n",
    "estimators_rf = {\"math_score_range\": \"\" ,\n",
    "                 \"reading_score_range\": \"\",\n",
    "                 \"writing_score_range\": \"\"}\n",
    "\n",
    "# This loop is for each of the different scores \n",
    "# ranged_score_cols is defined in grouping scores section, placed here for reference \n",
    "# ranged_score_cols = [\"math_score_range\", \"reading_score_range\", \"writing_score_range\"]\n",
    "for score_type in ranged_score_cols:\n",
    "    # Select training and targets data \n",
    "    data_rf = data.copy() # Don't change encoded dataset\n",
    "    y_rf = data_rf[score_type] # Lowercase y is standard name for one-dimensional targets \n",
    "\n",
    "    # Remove target from training data\n",
    "    data_rf = data_rf.drop(columns=[score_type])\n",
    "    X_rf = data_rf # Capital X is standard name for multi-dimensional array inputs \n",
    "    \n",
    "    # Scale dataset\n",
    "    std_scaler = StandardScaler()\n",
    "    X_rf_scaled = std_scaler.fit_transform(X_rf)\n",
    "    \n",
    "    # Cross validation by splitting training data \n",
    "    X_train_rf, X_test_rf, y_train_rf, y_test_rf = train_test_split(\n",
    "        X_rf_scaled, y_rf, random_state=100)\n",
    "\n",
    "    # Use param_grid defined earlier \n",
    "    grid_rf = GridSearchCV(RandomForestClassifier(), param_grid_rf, refit = True, \\\n",
    "                           verbose = 1, return_train_score=True)\n",
    "\n",
    "    # Fitting the model for grid search\n",
    "    grid_rf.fit(X_train_rf, y_train_rf)\n",
    "\n",
    "    # Print best parameter after tuning\n",
    "    print(\"\\nBest Parameters {}: {} \\n\".format(score_type, grid_rf.best_params_))\n",
    "\n",
    "    # Print how model looks after hyper-parameter tuning\n",
    "    print(\"\\nBest Estimator {}: {} \\n\".format(score_type, grid_rf.best_estimator_))\n",
    "    \n",
    "    # Save best estimator \n",
    "    estimators_rf[score_type] = grid_rf.best_estimator_\n",
    "     \n",
    "    # GridSearchCV does not implement feature importance, need to use an estimator\n",
    "    rf_clf = grid_rf.best_estimator_\n",
    "    rf_clf.fit(X_train_rf, y_train_rf)\n",
    "    y_pred_rf = rf_clf.predict(X_test_rf)\n",
    "    print(\"\\nRandom Forest Accuracy {}: {} \".format(score_type, accuracy_score(y_test_rf, y_pred_rf)))\n",
    "          \n",
    "    # Get feature relevance\n",
    "    estimator=rf_clf.estimators_[3]\n",
    "\n",
    "    important_features_names = []\n",
    "    important_features_scores = []\n",
    "\n",
    "    new_features = features.copy() \n",
    "    new_features.remove(score_type)\n",
    "\n",
    "    for name, score in zip(new_features, rf_clf.feature_importances_):\n",
    "        important_features_names.append(name)\n",
    "        important_features_scores.append(score) \n",
    "          \n",
    "    # Plot feature importance \n",
    "    plt.bar(important_features_names, important_features_scores)\n",
    "    plt.ylabel(\"Percentage\")\n",
    "    plt.title(\"Random Forest Feature Importance \" + GROUP_PATH + score_type)\n",
    "    plt.xticks(rotation=45, ha=\"right\", rotation_mode=\"anchor\")\n",
    "    plt.grid(axis = 'y')\n",
    "    plt.tight_layout()\n",
    "    # Cuts labels if not pdf extention \n",
    "    plt.savefig(\"Figures/RF/RF_Feature_Importance_\" + GROUP_PATH + score_type + \".jpeg\", dpi=300, bbox_inches='tight')\n",
    "    plt.show()\n",
    "    \n",
    "    # Classifcation report\n",
    "    print(\"Classifcation report \" + GROUP_PATH + score_type)\n",
    "    report_rf = classification_report(y_test_rf, y_pred_rf, zero_division=0, target_names=names)\n",
    "    save_report_csv(y_test_rf, y_pred_rf, names, \"Reports/RF/RF_\" + GROUP_PATH + score_type + \".csv\")\n",
    "    print(report_rf)\n",
    "          \n",
    "    # Create confusion matrix \n",
    "    cm_rf = confusion_matrix(y_test_rf, y_pred_rf)\n",
    "\n",
    "    # plot confusion matrix\n",
    "    disp = ConfusionMatrixDisplay(confusion_matrix=cm_rf, display_labels=names)\n",
    "    disp.plot(xticks_rotation=45)\n",
    "    plt.title(\"Confusion Matrix \" + GROUP_PATH + score_type)\n",
    "    plt.xlabel('Predicted')\n",
    "    plt.ylabel('True')\n",
    "    plt.subplots_adjust(left=0.3, right=0.9, bottom=0.3, top=0.9)\n",
    "    plt.savefig(\"Figures/RF/RF_Confusion_Matrix_\" + GROUP_PATH + score_type + \".jpeg\", dpi=300, bbox_inches='tight')\n",
    "    plt.show()\n",
    "          \n",
    "    # Plot tree\n",
    "    fig, axes = plt.subplots(nrows = 1,ncols = 1,figsize = (4,4), dpi=1000)\n",
    "    tree.plot_tree(estimator, filled = True, feature_names = features);\n",
    "    plt.show()"
   ]
  },
  {
   "cell_type": "markdown",
   "id": "d81f1912-2957-4ab2-95b1-8e0a00d73df9",
   "metadata": {},
   "source": [
    "# **Comparing Different Groups Sizes RF**\n",
    "\n",
    "The purpose of this code is to get all the saved reports and load the results for comparison.\n",
    "\n",
    "### **Ten Classes**\n",
    "* Low precision and recall with some groups getting 0 \n",
    "* Mixed results between classes\n",
    "* Around 40% accuracy when predicting across all scores\n",
    "* 10 classes are too many to produce reliable results of any kind \n",
    "\n",
    "### **Four Classes**\n",
    "* Reading and writing produced usable classifiers with around 70% accuracy \n",
    "* Math scores classifier had poor recall and precision for identifying lower scores\n",
    "* Trend is that F1 scores are all significantly lower for identifying lower scores  \n",
    "* Overall okay classifiers but held back by performance at lower scores \n",
    "\n",
    "### **Three Classes** \n",
    "* Even combined the lower scores still show noticeable performance losses compared to the higher scores\n",
    "* Overall accuracy has improved to 80% \n",
    "* The three classes model achieves the goal of differentiating between the higher groups but is held back by the performance in the lower scores group\n",
    "\n",
    "### **Two Classes** \n",
    "* Best performing model confirming the trend that the reading and writing model performs better than the maths model \n",
    "* Around 90% accuracy for reading and writing but only 80% for math model \n",
    "* Resolves the issue of performance on low scores by having f1 scores similar to accuracy which was not the case for other models\n",
    "\n",
    "### **Feature importance**\n",
    "The feature importance showed a consistent trend, the maths scores were more impacted by gender, ethnicity, parent education, lunch, and prep course across all the different groups than the reading and writing scores. This effect was so pronounced that in all groups except two classes the values rarely exceeded 5% importance. The most impactful features on math scores were still reading and writing but these values only had peeks of 30% compared to the 60% peaks of how reading and writing were important to each other. The feature importance showed that those with a good reading score are likely to get a good writing score and those with a good writing score are likely to get a good reading score. The student’s understanding of math had a marginal impact on their reading and writing. \n",
    "\n",
    "\n"
   ]
  },
  {
   "cell_type": "code",
   "execution_count": null,
   "id": "25e067e7-8d7b-4018-b618-aa831617fa89",
   "metadata": {},
   "outputs": [
    {
     "ename": "",
     "evalue": "",
     "output_type": "error",
     "traceback": [
      "\u001b[1;31mRunning cells with 'Python 3.10.5 64-bit' requires ipykernel package.\n",
      "Run the following command to install 'ipykernel' into the Python environment. \n",
      "Command: 'c:/Users/Stephen/AppData/Local/Programs/Python/Python310/python.exe -m pip install ipykernel -U --user --force-reinstall'"
     ]
    }
   ],
   "source": [
    "report_path_rf = \"Reports/RF/\"\n",
    "file_names_rf = get_file_names(report_path_rf)\n",
    "\n",
    "for file in file_names_rf:\n",
    "    xl = pd.read_csv(report_path_rf + file)\n",
    "    print(\"Classification Report \" + file)\n",
    "    print(xl,\"\\n\")"
   ]
  },
  {
   "cell_type": "markdown",
   "id": "f5af3711-600d-46e7-91df-2d696b467641",
   "metadata": {},
   "source": [
    "This code prints all the confusion matrices and feature importance graphs of the different groups "
   ]
  },
  {
   "cell_type": "code",
   "execution_count": null,
   "id": "161eed41-2aa2-4f33-ba34-a4b10bd9faa2",
   "metadata": {},
   "outputs": [
    {
     "ename": "",
     "evalue": "",
     "output_type": "error",
     "traceback": [
      "\u001b[1;31mRunning cells with 'Python 3.10.5 64-bit' requires ipykernel package.\n",
      "Run the following command to install 'ipykernel' into the Python environment. \n",
      "Command: 'c:/Users/Stephen/AppData/Local/Programs/Python/Python310/python.exe -m pip install ipykernel -U --user --force-reinstall'"
     ]
    }
   ],
   "source": [
    "# Print all figures \n",
    "fig_path_rf = \"Figures/RF/\"\n",
    "file_names_rf = get_file_names(fig_path_rf)\n",
    "\n",
    "for file in file_names_rf:\n",
    "    display(Image(filename=fig_path_rf + file, width=500, height=500))"
   ]
  },
  {
   "cell_type": "markdown",
   "id": "f3c8b8af-dcce-498e-94ca-f6bb302b37b9",
   "metadata": {},
   "source": [
    "# **Feature Selection RF**\n",
    "\n",
    "### **Key Terms**\n",
    "* Ranking: How much feature contributes to higher accuracy ( 1 = best)\n",
    "* Support: Is the feature impactful in accuracy (True/ False)\n",
    "\n",
    "### **Ten Classes**\n",
    "* Math and reading showed that all the classes were impactful in making predictions \n",
    "* For reading scores, lunch and prep course received a 2 and 3 ranking respectively\n",
    "\n",
    "### **Four Classes**\n",
    "* For maths scores Gender, reading and writing scores were the most impactful features \n",
    "* For Reading scores, writing scores were the most impactful feature\n",
    "* For writing scores, math, reading, and gender were the most impactful features\n",
    "\n",
    "### **Three Classes**\n",
    "* Math scores show that all the features were impactful \n",
    "* For reading, writing was the most impactful and for writing, reading was the most impactful \n",
    "\n",
    "### **Two Classes**\n",
    "* Math scores show that all the features were impactful\n",
    "* Reading shows only writing as the most impactful \n",
    "* Writing shows reading, math and prep course as the most impactful \n",
    "\n",
    "\n",
    "From these results, math scores have a greater dependence on multiple features whereas reading and writing scores are dependent on each other.\n"
   ]
  },
  {
   "cell_type": "code",
   "execution_count": null,
   "id": "6ea4dfad-e058-4e71-b715-2a975a03eb28",
   "metadata": {},
   "outputs": [
    {
     "ename": "",
     "evalue": "",
     "output_type": "error",
     "traceback": [
      "\u001b[1;31mRunning cells with 'Python 3.10.5 64-bit' requires ipykernel package.\n",
      "Run the following command to install 'ipykernel' into the Python environment. \n",
      "Command: 'c:/Users/Stephen/AppData/Local/Programs/Python/Python310/python.exe -m pip install ipykernel -U --user --force-reinstall'"
     ]
    }
   ],
   "source": [
    "for score_type in ranged_score_cols:\n",
    "    # Select training and targets data \n",
    "    data_rf = data.copy() # Don't change encoded dataset\n",
    "    y_rf = data_rf[score_type] # Lowercase y is standard name for one-dimensional targets \n",
    "\n",
    "    # remove data from training data\n",
    "    data_rf = data_rf.drop(columns=[score_type])\n",
    "    X_rf = data_rf # Capital X is standard name for multi-dimensional array inputs \n",
    "    \n",
    "    # Dataframe to store results \n",
    "    results = pd.DataFrame(columns = list(X_rf.columns))\n",
    "    \n",
    "    # Create the RFE object and compute a cross-validated score.\n",
    "    rf = estimators_rf[score_type]\n",
    "    \n",
    "    # The \"accuracy\" scoring shows the proportion of correct classifications\n",
    "    min_features_to_select = 1  # Minimum number of features to consider\n",
    "    rfecv = RFECV(\n",
    "        estimator=rf,\n",
    "        step=1,\n",
    "        cv=StratifiedKFold(5),  # Cross validation method (train test split not required)\n",
    "        scoring=\"accuracy\",\n",
    "        min_features_to_select=min_features_to_select,\n",
    "    )\n",
    "    rfecv.fit(X_rf, y_rf)\n",
    "    \n",
    "    print(\"Optimal number of features : %d\" % rfecv.n_features_)\n",
    "    # Add ranking and support to results dataframe (these values math the column order of X_svm)\n",
    "    results.loc[\"Ranking\"] = rfecv.ranking_ # 1 is best feature \n",
    "    results.loc[\"Support\"] = rfecv.support_ # True = impactuful feature  \n",
    "    print(results.head())\n",
    "    # Save results \n",
    "    results.to_csv(\"Feature_Selection/RF/Features_\"+ GROUP_PATH + score_type + \".csv\")\n",
    "    # Plot number of features VS. cross-validation scores\n",
    "    plt.figure()\n",
    "    plt.title(\"Accuracy for Features Selected \" + score_type)\n",
    "    plt.xlabel(\"Number of features selected\")\n",
    "    plt.ylabel(\"Cross validation score (accuracy)\")\n",
    "    plt.plot(\n",
    "        range(min_features_to_select, len(rfecv.grid_scores_) + min_features_to_select),\n",
    "        rfecv.grid_scores_,\n",
    "    )\n",
    "    plt.show()"
   ]
  },
  {
   "cell_type": "code",
   "execution_count": null,
   "id": "95dffe63-7cfe-4144-9f98-0439c324e6fd",
   "metadata": {},
   "outputs": [
    {
     "ename": "",
     "evalue": "",
     "output_type": "error",
     "traceback": [
      "\u001b[1;31mRunning cells with 'Python 3.10.5 64-bit' requires ipykernel package.\n",
      "Run the following command to install 'ipykernel' into the Python environment. \n",
      "Command: 'c:/Users/Stephen/AppData/Local/Programs/Python/Python310/python.exe -m pip install ipykernel -U --user --force-reinstall'"
     ]
    }
   ],
   "source": [
    "feature_path_rf = \"Feature_Selection/RF/\"\n",
    "file_names_rf = get_file_names(feature_path_rf)\n",
    "\n",
    "for file in file_names_rf:\n",
    "    xl = pd.read_csv(feature_path_rf + file)\n",
    "    print(\"Feature Rankings \" + file)\n",
    "    print(xl,\"\\n\")"
   ]
  },
  {
   "cell_type": "markdown",
   "id": "6f7fa771-c7f3-4eeb-b19a-a31e5d5f48c1",
   "metadata": {
    "tags": []
   },
   "source": [
    "# **Support Vector Machine Implementation** \n",
    "\n",
    "### **Key Parameters**\n",
    "* kernel=, which defines what type of function is used to transform the dataset\n",
    "* C=, which defines the regularization of the error.\n",
    "* gamma= defines how loosely the model will fit the training data, allowing you to prevent overfitting\n",
    "\n",
    "\n",
    "### **Training SVM** \n",
    "* \"rbf\" cannot be used as a kernal as it does not have coefs attribute so it cannot be plotted  \n",
    "* 1000 is too high for a \"C\" value, the code runs slow and 100 still chosen over it so this value was reduced to 200 "
   ]
  },
  {
   "cell_type": "code",
   "execution_count": null,
   "id": "edd820d1-a8e9-43d8-8d59-280fc66ea275",
   "metadata": {},
   "outputs": [
    {
     "ename": "",
     "evalue": "",
     "output_type": "error",
     "traceback": [
      "\u001b[1;31mRunning cells with 'Python 3.10.5 64-bit' requires ipykernel package.\n",
      "Run the following command to install 'ipykernel' into the Python environment. \n",
      "Command: 'c:/Users/Stephen/AppData/Local/Programs/Python/Python310/python.exe -m pip install ipykernel -U --user --force-reinstall'"
     ]
    }
   ],
   "source": [
    "# Data has too many dimentions to make use of a plotting function \n",
    "def plot_svc_decision_boundary(svm_clf, xmin, xmax):\n",
    "    w = svm_clf.coef_[0]\n",
    "    b = svm_clf.intercept_[0]\n",
    "\n",
    "    # At the decision boundary, w0*x0 + w1*x1 + b = 0\n",
    "    # => x1 = -w0/w1 * x0 - b/w1\n",
    "    x0 = np.linspace(xmin, xmax, 200)\n",
    "    decision_boundary = -w[0]/w[1] * x0 - b/w[1]\n",
    "\n",
    "    margin = 1/w[1]\n",
    "    gutter_up = decision_boundary + margin\n",
    "    gutter_down = decision_boundary - margin\n",
    "\n",
    "    svs = svm_clf.support_vectors_\n",
    "    plt.scatter(svs[:, 0], svs[:, 1], s=180, facecolors='#FFAAAA')\n",
    "    plt.plot(x0, decision_boundary, \"k-\",  linewidth=2)\n",
    "    plt.plot(x0, gutter_up,         \"k--\", linewidth=2)\n",
    "    plt.plot(x0, gutter_down,       \"k--\", linewidth=2)"
   ]
  },
  {
   "cell_type": "code",
   "execution_count": null,
   "id": "fd2cc8d7-1d21-4d88-9fe5-dc630ea40129",
   "metadata": {},
   "outputs": [
    {
     "ename": "",
     "evalue": "",
     "output_type": "error",
     "traceback": [
      "\u001b[1;31mRunning cells with 'Python 3.10.5 64-bit' requires ipykernel package.\n",
      "Run the following command to install 'ipykernel' into the Python environment. \n",
      "Command: 'c:/Users/Stephen/AppData/Local/Programs/Python/Python310/python.exe -m pip install ipykernel -U --user --force-reinstall'"
     ]
    }
   ],
   "source": [
    "# Defining parameter range\n",
    "param_grid_svm = {\"C\": [0.1, 1, 10, 100, 200],\n",
    "              \"gamma\": [1, 0.1, 0.01, 0.001, 0.0001],\n",
    "              \"kernel\": [\"linear\"]}\n",
    "# \"rbf\", cant plot this kernal no coefs \n",
    "# 1000 is a lot and slow 100 still chosen over it \n",
    "\n",
    "estimators_svm = {\"math_score_range\": \"\" ,\n",
    "                  \"reading_score_range\": \"\",\n",
    "                  \"writing_score_range\": \"\"}\n",
    "\n",
    "# This loop is for each of the different scores \n",
    "# ranged_score_cols is defined in grouping scores section, placed here for reference \n",
    "ranged_score_cols = [\"math_score_range\", \"reading_score_range\", \"writing_score_range\"]\n",
    "for score_type in ranged_score_cols:\n",
    "    \n",
    "    # Select training and targets data \n",
    "    data_svm = data.copy() # Don't change encoded dataset\n",
    "    y_svm = data_svm[score_type] # Lowercase y is standard name for one-dimensional targets \n",
    "\n",
    "    # remove data from training data\n",
    "    data_svm = data_svm.drop(columns=[score_type])\n",
    "    X_svm = data_svm # Capital X is standard name for multi-dimensional array inputs \n",
    "    \n",
    "    # Scale dataset\n",
    "    std_scaler = StandardScaler()\n",
    "    X_svm_scaled = std_scaler.fit_transform(X_svm)\n",
    "    \n",
    "    # Cross validation by splitting training data \n",
    "    X_train_svm, X_test_svm, y_train_svm, y_test_svm = train_test_split(X_svm_scaled, y_svm, random_state=100)\n",
    "    \n",
    "    # Use param_grid defined earlier \n",
    "    grid_svm = GridSearchCV(SVC(), param_grid_svm, refit = True, verbose = 1,\\\n",
    "                       return_train_score=True) \n",
    " \n",
    "    # fitting the model for grid search\n",
    "    grid_svm.fit(X_train_svm, y_train_svm)\n",
    "\n",
    "    # print best parameter after tuning\n",
    "    print(\"Best Parameters: \", grid_svm.best_params_)\n",
    "\n",
    "    # print how our model looks after hyper-parameter tuning\n",
    "    print(\"Best Estimator: \", grid_svm.best_estimator_)\n",
    "    \n",
    "    # Save best estimator \n",
    "    estimators_svm[score_type] = grid_svm.best_estimator_\n",
    "\n",
    "    # Building and training SVM Classifier model\n",
    "    svm_clf = grid_svm.best_estimator_\n",
    "    svm_clf.fit(X_train_svm, y_train_svm)\n",
    "\n",
    "    y_pred_svm = svm_clf.predict(X_test_svm)\n",
    "\n",
    "    print(\"\\nSupport Vector Machine Accuracy {}: {}\".format(score_type, accuracy_score(y_test_svm, y_pred_svm)))\n",
    "      \n",
    "    # Classifcation report\n",
    "    print(\"Classifcation report \" + GROUP_PATH + score_type)\n",
    "    report_svm = classification_report(y_test_svm, y_pred_svm, zero_division=0, target_names=names)\n",
    "    save_report_csv(y_test_svm, y_pred_svm, names, \"Reports/SVM/SVM_\" + GROUP_PATH + score_type + \".csv\")\n",
    "    print(report_svm)\n",
    "          \n",
    "    # Plot confusion matrix \n",
    "    cm_svm = confusion_matrix(y_test_svm, y_pred_svm)\n",
    "    \n",
    "    # plot confusion matrix\n",
    "    disp = ConfusionMatrixDisplay(confusion_matrix=cm_svm, display_labels=names)\n",
    "    disp.plot(xticks_rotation=45)\n",
    "    plt.title(\"Confusion Matrix \" + GROUP_PATH + score_type)\n",
    "    plt.xlabel('Predicted')\n",
    "    plt.ylabel('True')\n",
    "    plt.tight_layout()\n",
    "    # Cuts labels if not pdf extention \n",
    "    plt.savefig(\"Figures/SVM/SVM_Confusion_Matrix_\" + GROUP_PATH + score_type + \".jpeg\", dpi=300, bbox_inches='tight')\n",
    "    plt.show()\n",
    "          \n",
    "    #plot_svc_decision_boundary(svm_clf, -10, 10)\n",
    "    \n"
   ]
  },
  {
   "cell_type": "markdown",
   "id": "c10d2a65-12e8-4dfe-b9f5-201d434ae4f0",
   "metadata": {
    "tags": []
   },
   "source": [
    "# **Comparing Different Groups Sizes SVM**\n",
    "\n",
    "The purpose of this code is to get all the saved reports and load the results for comparison.\n",
    "\n",
    "### **Ten Classes**\n",
    "* Math score had poor performance with some groups having f1 scores of 0\n",
    "* Reading and writing scores showed better performance than maths scores but still below 40% accuracy \n",
    "\n",
    "### **Four Classes**\n",
    "* Reading scores showed a significant performance boost over the other models with an accuracy of 74% but lower recall scores in the lower groups compared to the higher groups \n",
    "* Math score showed the worst performance with an accuracy of 51% \n",
    "\n",
    "### **Three Classes**\n",
    "* Math scores had a low recall and precision score for the  =<66 group while the other groups had significantly better recall scores \n",
    "* Reading and writing also had a low recall and precision scores for the =<66 group but not to the same degree as math score\n",
    "* Overall reading and writing had a good performance with accuracy of around 80%\n",
    "\n",
    "### **Two Classes**\n",
    "* All models performed well across all metrics; however, math score had an 81% accuracy compared to 93% from reading and writing scores \n",
    "\n",
    "In general Reading and writing models performed better than the math models and metrics were better in the higher score groups than the lower score groups. The fewer classifications that had to be made the better the performance of the model.\n",
    "\n"
   ]
  },
  {
   "cell_type": "code",
   "execution_count": null,
   "id": "56812be7-af01-458a-9f0d-4aa29375767b",
   "metadata": {},
   "outputs": [
    {
     "ename": "",
     "evalue": "",
     "output_type": "error",
     "traceback": [
      "\u001b[1;31mRunning cells with 'Python 3.10.5 64-bit' requires ipykernel package.\n",
      "Run the following command to install 'ipykernel' into the Python environment. \n",
      "Command: 'c:/Users/Stephen/AppData/Local/Programs/Python/Python310/python.exe -m pip install ipykernel -U --user --force-reinstall'"
     ]
    }
   ],
   "source": [
    "report_path_svm = \"Reports/SVM/\"\n",
    "file_names_svm = get_file_names(report_path_svm)\n",
    "\n",
    "for file in file_names_svm:\n",
    "    xl = pd.read_csv(report_path_svm + file)\n",
    "    print(\"Classification Report \" + file)\n",
    "    print(xl,\"\\n\")"
   ]
  },
  {
   "cell_type": "code",
   "execution_count": null,
   "id": "da41c554-8055-4ce7-9406-5992e3bd5676",
   "metadata": {},
   "outputs": [
    {
     "ename": "",
     "evalue": "",
     "output_type": "error",
     "traceback": [
      "\u001b[1;31mRunning cells with 'Python 3.10.5 64-bit' requires ipykernel package.\n",
      "Run the following command to install 'ipykernel' into the Python environment. \n",
      "Command: 'c:/Users/Stephen/AppData/Local/Programs/Python/Python310/python.exe -m pip install ipykernel -U --user --force-reinstall'"
     ]
    }
   ],
   "source": [
    "# Print all figures \n",
    "fig_path_svm= \"Figures/SVM/\"\n",
    "file_names_svm = get_file_names(fig_path_svm)\n",
    "\n",
    "for file in file_names_svm:\n",
    "    display(Image(filename=fig_path_svm + file, width=500, height=500))"
   ]
  },
  {
   "cell_type": "markdown",
   "id": "93a7856d-71dc-44c9-bbb6-a2efef26ce4d",
   "metadata": {
    "tags": []
   },
   "source": [
    "# **Feature Selection SVM**\n",
    "\n",
    "SVMs have no built-in method to define feature importance; therefore, this method will give insight into this while note being as detailed as a random forest. \n",
    "\n",
    "### **Ten Classes**\n",
    "* Math score and writing score ranked all their features with equal importance \n",
    "* Reading score gave equal importance to every score except parent education\n",
    "\n",
    "### **Four Classes**\n",
    "* Reading ranked writing score as the most important and writing ranked reading score as the most important \n",
    "* Math score ranked all the features as equally important \n",
    "\n",
    "### **Three Classes**\n",
    "* Math score showed equal importance to all features except parent education \n",
    "* Reading ranked writing score as the most important and writing ranked reading score as the most important\n",
    "\n",
    "### **Two Classes**\n",
    "* Math score showed that gender, reading and writing score were the most important features \n",
    "* Reading ranked writing score as the most important and writing ranked reading score as the most important\n",
    "\n",
    "In summary, the reading and writing scores are highly influenced by each other whereas the maths scores are impacted by a greater number of features.\n"
   ]
  },
  {
   "cell_type": "code",
   "execution_count": null,
   "id": "8bb807bb-4ba7-4ac0-9b92-480a0deda628",
   "metadata": {},
   "outputs": [
    {
     "ename": "",
     "evalue": "",
     "output_type": "error",
     "traceback": [
      "\u001b[1;31mRunning cells with 'Python 3.10.5 64-bit' requires ipykernel package.\n",
      "Run the following command to install 'ipykernel' into the Python environment. \n",
      "Command: 'c:/Users/Stephen/AppData/Local/Programs/Python/Python310/python.exe -m pip install ipykernel -U --user --force-reinstall'"
     ]
    }
   ],
   "source": [
    "for score_type in ranged_score_cols:\n",
    "    # Select training and targets data \n",
    "    data_svm = data.copy() # Don't change encoded dataset\n",
    "    y_svm = data_svm[score_type] # Lowercase y is standard name for one-dimensional targets \n",
    "\n",
    "    # remove data from training data\n",
    "    data_svm = data_svm.drop(columns=[score_type])\n",
    "    X_svm = data_svm # Capital X is standard name for multi-dimensional array inputs \n",
    "    \n",
    "    # Dataframe to store results \n",
    "    results = pd.DataFrame(columns = list(X_svm.columns))\n",
    "    \n",
    "    # Create the RFE object and compute a cross-validated score.\n",
    "    svc = estimators_svm[score_type]\n",
    "    \n",
    "    # The \"accuracy\" scoring shows the proportion of correct classifications\n",
    "    min_features_to_select = 1  # Minimum number of features to consider\n",
    "    rfecv = RFECV(\n",
    "        estimator=svc,\n",
    "        step=1,\n",
    "        cv=StratifiedKFold(5),  # Cross validation method (train test split not required)\n",
    "        scoring=\"accuracy\",\n",
    "        min_features_to_select=min_features_to_select,\n",
    "    )\n",
    "    rfecv.fit(X_svm, y_svm)\n",
    "    \n",
    "    print(\"Optimal number of features : %d\" % rfecv.n_features_)\n",
    "    # Add ranking and support to results dataframe (these values math the column order of X_svm)\n",
    "    results.loc[\"Ranking\"] = rfecv.ranking_ # 1 is best feature \n",
    "    results.loc[\"Support\"] = rfecv.support_ # True = impactuful feature  \n",
    "    print(results.head())\n",
    "    # Save results \n",
    "    results.to_csv(\"Feature_Selection/SVM/Features_\"+ GROUP_PATH + score_type + \".csv\")\n",
    "    # Plot number of features VS. cross-validation scores\n",
    "    plt.figure()\n",
    "    plt.title(\"Accuracy for Features Selected \" + score_type)\n",
    "    plt.xlabel(\"Number of features selected\")\n",
    "    plt.ylabel(\"Cross validation score (accuracy)\")\n",
    "    plt.plot(\n",
    "        range(min_features_to_select, len(rfecv.grid_scores_) + min_features_to_select),\n",
    "        rfecv.grid_scores_,\n",
    "    )\n",
    "    plt.show()"
   ]
  },
  {
   "cell_type": "code",
   "execution_count": null,
   "id": "b0d95bbb-9e55-49ac-ae02-ee6c27497b6f",
   "metadata": {},
   "outputs": [
    {
     "ename": "",
     "evalue": "",
     "output_type": "error",
     "traceback": [
      "\u001b[1;31mRunning cells with 'Python 3.10.5 64-bit' requires ipykernel package.\n",
      "Run the following command to install 'ipykernel' into the Python environment. \n",
      "Command: 'c:/Users/Stephen/AppData/Local/Programs/Python/Python310/python.exe -m pip install ipykernel -U --user --force-reinstall'"
     ]
    }
   ],
   "source": [
    "feature_path_svm = \"Feature_Selection/SVM/\"\n",
    "file_names_SVM = get_file_names(feature_path_svm)\n",
    "\n",
    "for file in file_names_SVM:\n",
    "    xl = pd.read_csv(feature_path_svm + file)\n",
    "    print(\"Feature Rankings \" + file)\n",
    "    print(xl,\"\\n\")"
   ]
  },
  {
   "cell_type": "markdown",
   "id": "bf66badb-9a31-41c1-ae9b-2b30fe611b22",
   "metadata": {
    "tags": []
   },
   "source": [
    "# **Machine Learning Challenges and Limitations**\n",
    "One of the greatest challenges of this dataset was finding the optimal features and hyperparameters to build the best model. As seen from the previous code, a grid search method was implemented to find the hyperparameters, different classification groups to find the optimal group sizes and two methods of testing feature importance. The complexity came in that these methods produced a lot of data that had to be manually assessed for comparison. \n",
    "\n",
    "With a large amount of data produced, the other problem was following the different combinations that could be tried to improve the model. One solution that could have resolved this was the use of pipelining which would allow greater automation of all the different tasks; however, for this project, it was deemed too complex for the returns gained. As seen in the graphs for feature selection different feature combinations can lead to little change. \n",
    "\n",
    "Another challenge faced, especially with the feature selection, is when the libraries did not provide the exact functionality wanted it had to be created. The feature importance selection method for SVM models required a deep understanding of the feature selection method to create a representation that in comparison to the built-in random forest implement is not as good. \n",
    "\n",
    "In conclusion, the best performing models had two classes and random forest and support vector machines had very similar metrics that would make an optimal solution. A classifier for each of the scores was built which showed that the dataset had are harder time classifying the math scores data whether using an SVM or RF. All groups showed some viability except the models with 10 classes, a strong bias towards the easier classification of high scores was present even in cases where lower scores were trained on half the data. The best classifier has two classes whereas the best features to train varied with each of the different group sizes. For reading and writing scores a strong correlation between these two was present as evidence in the feature selection these features alone can be used to classify each other. \n"
   ]
  }
 ],
 "metadata": {
  "kernelspec": {
   "display_name": "Python 3.9.7 ('base')",
   "language": "python",
   "name": "python3"
  },
  "language_info": {
   "codemirror_mode": {
    "name": "ipython",
    "version": 3
   },
   "file_extension": ".py",
   "mimetype": "text/x-python",
   "name": "python",
   "nbconvert_exporter": "python",
   "pygments_lexer": "ipython3",
   "version": "3.9.7"
  },
  "vscode": {
   "interpreter": {
    "hash": "cc8863194be94df6e9f82dd3c0db99fc687dba8823e01872905153a9d61d6a1b"
   }
  }
 },
 "nbformat": 4,
 "nbformat_minor": 5
}
