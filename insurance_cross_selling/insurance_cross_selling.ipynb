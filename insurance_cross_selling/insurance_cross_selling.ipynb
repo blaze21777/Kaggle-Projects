{
 "cells": [
  {
   "cell_type": "markdown",
   "metadata": {},
   "source": [
    "### Goal\n",
    "The objective of this competition is to predict which customers respond positively to an automobile insurance offer.\n",
    "\n",
    "### Evaluation\n",
    "Submissions are evaluated using area under the ROC curve using the predicted probabilities and the ground truth targets."
   ]
  },
  {
   "cell_type": "code",
   "execution_count": 1,
   "metadata": {},
   "outputs": [],
   "source": [
    "import matplotlib.pyplot as plt\n",
    "import numpy as np\n",
    "import pandas as pd\n",
    "import seaborn as sns\n",
    "import xgboost as xgb\n",
    "from sklearn.metrics import (\n",
    "    accuracy_score,\n",
    "    classification_report,\n",
    "    log_loss,\n",
    "    roc_auc_score,\n",
    "    roc_curve,\n",
    ")\n",
    "from sklearn.model_selection import cross_val_score, train_test_split\n",
    "from sklearn.preprocessing import StandardScaler"
   ]
  },
  {
   "cell_type": "markdown",
   "metadata": {},
   "source": [
    "### Exploratory Data Analysis"
   ]
  },
  {
   "cell_type": "code",
   "execution_count": null,
   "metadata": {},
   "outputs": [],
   "source": [
    "df = pd.read_csv(\"train.csv\")\n",
    "\n",
    "df[\n",
    "    [\n",
    "        \"Gender\",\n",
    "        # \"Driving_License\",\n",
    "        # \"Previously_Insured\",\n",
    "        \"Vehicle_Age\",\n",
    "        \"Vehicle_Damage\",\n",
    "        # \"Response\",\n",
    "    ]\n",
    "] = df[\n",
    "    [\n",
    "        \"Gender\",\n",
    "        # \"Driving_License\",\n",
    "        # \"Previously_Insured\",\n",
    "        \"Vehicle_Age\",\n",
    "        \"Vehicle_Damage\",\n",
    "        # \"Response\",\n",
    "    ]\n",
    "].astype(\n",
    "    \"category\"\n",
    ")\n",
    "\n",
    "df.set_index(\"id\", inplace=True)\n",
    "\n",
    "df.head()"
   ]
  },
  {
   "cell_type": "code",
   "execution_count": 3,
   "metadata": {},
   "outputs": [],
   "source": [
    "categorical_df = df.select_dtypes(include=[\"category\", \"object\"])\n",
    "numeric_df = df.select_dtypes(include=[\"number\"])"
   ]
  },
  {
   "cell_type": "code",
   "execution_count": null,
   "metadata": {},
   "outputs": [],
   "source": [
    "print(df.shape)\n",
    "df.drop_duplicates()\n",
    "print(df.shape)"
   ]
  },
  {
   "cell_type": "code",
   "execution_count": null,
   "metadata": {},
   "outputs": [],
   "source": [
    "df.info()"
   ]
  },
  {
   "cell_type": "code",
   "execution_count": null,
   "metadata": {},
   "outputs": [],
   "source": [
    "df.nunique()"
   ]
  },
  {
   "cell_type": "code",
   "execution_count": null,
   "metadata": {},
   "outputs": [],
   "source": [
    "df.skew(numeric_only=True)"
   ]
  },
  {
   "cell_type": "code",
   "execution_count": 8,
   "metadata": {},
   "outputs": [],
   "source": [
    "class_counts = categorical_df.value_counts()"
   ]
  },
  {
   "cell_type": "code",
   "execution_count": null,
   "metadata": {},
   "outputs": [],
   "source": [
    "for column in categorical_df.columns:\n",
    "    plt.figure(figsize=(8, 4))\n",
    "    sns.countplot(x=column, data=categorical_df)\n",
    "    plt.title(f'Distribution of {column}')\n",
    "    plt.show()"
   ]
  },
  {
   "cell_type": "code",
   "execution_count": null,
   "metadata": {},
   "outputs": [],
   "source": [
    "# df.hist()\n",
    "# plt.tight_layout()\n",
    "# plt.show()\n",
    "for column in numeric_df.columns:\n",
    "    sns.histplot(\n",
    "        x=numeric_df.columns[1],\n",
    "        hue=df[\"Response\"],\n",
    "        data=numeric_df,\n",
    "        kde=True,\n",
    "    )\n",
    "    plt.show()"
   ]
  },
  {
   "cell_type": "code",
   "execution_count": null,
   "metadata": {},
   "outputs": [],
   "source": [
    "corr_matrix = df.corr(numeric_only=True)\n",
    "mask = np.triu(np.ones_like(corr_matrix, dtype=bool), k=1)\n",
    "plt.figure(figsize=(8, 4))\n",
    "sns.heatmap(\n",
    "    corr_matrix,\n",
    "    annot=True,\n",
    "    cmap=\"coolwarm\",\n",
    "    mask=mask,\n",
    "    linewidths=0.7,\n",
    "    center=0,\n",
    ")\n",
    "plt.title(\"Correlation Matrix\")\n",
    "plt.show()"
   ]
  },
  {
   "cell_type": "code",
   "execution_count": null,
   "metadata": {},
   "outputs": [],
   "source": [
    "sns.histplot(\n",
    "    x=\"Age\",\n",
    "    bins=10,\n",
    "    hue=\"Response\",\n",
    "    stat=\"count\",\n",
    "    color=\"green\",\n",
    "    kde=True,\n",
    "    multiple=\"layer\",\n",
    "    data=df,\n",
    ")\n",
    "plt.show()"
   ]
  },
  {
   "cell_type": "code",
   "execution_count": null,
   "metadata": {},
   "outputs": [],
   "source": [
    "sns.boxplot(\n",
    "    x=\"Vehicle_Age\",\n",
    "    y=df[\"Annual_Premium\"],\n",
    "    hue=\"Response\",\n",
    "    palette=\"cool\",\n",
    "    fill=False,\n",
    "    linewidth=1.5,\n",
    "    width=0.4,\n",
    "    legend=True,\n",
    "    data=df,\n",
    ")\n",
    "plt.show()"
   ]
  },
  {
   "cell_type": "markdown",
   "metadata": {},
   "source": [
    "### Preprocessing"
   ]
  },
  {
   "cell_type": "code",
   "execution_count": 20,
   "metadata": {},
   "outputs": [],
   "source": [
    "scale_columns = [\"Age\", \"Region_Code\",\"Annual_Premium\",\"Policy_Sales_Channel\",\"Vintage\"]"
   ]
  },
  {
   "cell_type": "code",
   "execution_count": 21,
   "metadata": {},
   "outputs": [],
   "source": [
    "scaler = StandardScaler()\n",
    "X_scaled = scaler.fit_transform(df[scale_columns])\n",
    "scaled_df = pd.DataFrame(X_scaled, columns=scale_columns)"
   ]
  },
  {
   "cell_type": "code",
   "execution_count": null,
   "metadata": {},
   "outputs": [],
   "source": [
    "scaled_df.head()"
   ]
  },
  {
   "cell_type": "code",
   "execution_count": null,
   "metadata": {},
   "outputs": [],
   "source": [
    "sns.histplot(\n",
    "    x=\"Age\",\n",
    "    bins=10,\n",
    "    hue=df[\"Response\"],\n",
    "    stat=\"count\",\n",
    "    color=\"green\",\n",
    "    kde=True,\n",
    "    multiple=\"layer\",\n",
    "    data=scaled_df,\n",
    ")\n",
    "plt.show()"
   ]
  },
  {
   "cell_type": "code",
   "execution_count": null,
   "metadata": {},
   "outputs": [],
   "source": [
    "sns.boxplot(\n",
    "    x=df[\"Vehicle_Age\"],\n",
    "    y=\"Annual_Premium\",\n",
    "    hue=df[\"Response\"],\n",
    "    palette=\"cool\",\n",
    "    fill=False,\n",
    "    linewidth=1.5,\n",
    "    width=0.4,\n",
    "    legend=True,\n",
    "    data=scaled_df,\n",
    ")\n",
    "plt.show()"
   ]
  },
  {
   "cell_type": "code",
   "execution_count": 24,
   "metadata": {},
   "outputs": [],
   "source": [
    "drop_cols = scaled_df.columns.append(categorical_df.columns)"
   ]
  },
  {
   "cell_type": "code",
   "execution_count": null,
   "metadata": {},
   "outputs": [],
   "source": [
    "combined_df = pd.concat([scaled_df, categorical_df,df.drop(drop_cols, axis=1)], axis=1)\n",
    "\n",
    "combined_df.head()"
   ]
  },
  {
   "cell_type": "code",
   "execution_count": null,
   "metadata": {},
   "outputs": [],
   "source": [
    "combined_df.columns"
   ]
  },
  {
   "cell_type": "code",
   "execution_count": null,
   "metadata": {},
   "outputs": [],
   "source": [
    "categorical_df.columns"
   ]
  },
  {
   "cell_type": "code",
   "execution_count": null,
   "metadata": {},
   "outputs": [],
   "source": [
    "encoded_df = pd.get_dummies(\n",
    "    combined_df[\n",
    "        [\n",
    "            \"Age\",\n",
    "            \"Region_Code\",\n",
    "            \"Annual_Premium\",\n",
    "            \"Policy_Sales_Channel\",\n",
    "            \"Vintage\",\n",
    "            \"Gender\",\n",
    "            \"Vehicle_Age\",\n",
    "            \"Vehicle_Damage\",\n",
    "            \"Driving_License\",\n",
    "            \"Previously_Insured\",\n",
    "            \"Response\",\n",
    "        ]\n",
    "    ]\n",
    ")\n",
    "encoded_df.head()"
   ]
  },
  {
   "cell_type": "code",
   "execution_count": 29,
   "metadata": {},
   "outputs": [],
   "source": [
    "encoded_df.rename(\n",
    "    columns={\n",
    "        \"Vehicle_Age_1-2 Year\": \"Vehicle_Age_1_2_Year\",\n",
    "        \"Vehicle_Age_< 1 Year\": \"Vehicle_Age_less_1_Year\",\n",
    "        \"Vehicle_Age_> 2 Years\": \"Vehicle_Age_greater_2_Years\",\n",
    "    },\n",
    "    inplace=True,\n",
    ")"
   ]
  },
  {
   "cell_type": "markdown",
   "metadata": {},
   "source": [
    "### Train Model"
   ]
  },
  {
   "cell_type": "code",
   "execution_count": 30,
   "metadata": {},
   "outputs": [],
   "source": [
    "X = encoded_df.drop(columns=[\"Response\"])\n",
    "y = encoded_df[\"Response\"]\n",
    "\n",
    "X_train, X_test, y_train, y_test = train_test_split(\n",
    "    X, y, test_size=0.2, random_state=42\n",
    ")"
   ]
  },
  {
   "cell_type": "code",
   "execution_count": null,
   "metadata": {},
   "outputs": [],
   "source": [
    "# Initialize the XGBoost classifier with the specified parameters\n",
    "model = xgb.XGBClassifier(enable_categorical=True)\n",
    "\n",
    "# Train the model using the training data\n",
    "model.fit(X_train, y_train)"
   ]
  },
  {
   "cell_type": "code",
   "execution_count": 32,
   "metadata": {},
   "outputs": [],
   "source": [
    "# Predict on the test set\n",
    "y_pred_proba = model.predict_proba(X_test)[:, 1]  # Get the probabilities for the positive class\n",
    "y_pred = model.predict(X_test) "
   ]
  },
  {
   "cell_type": "code",
   "execution_count": null,
   "metadata": {},
   "outputs": [],
   "source": [
    "# Evaluate the model using ROC-AUC\n",
    "roc_auc = roc_auc_score(y_test, y_pred_proba)\n",
    "print(f'ROC-AUC Score: {roc_auc:.2f}')\n",
    "\n",
    "# Plot the ROC curve\n",
    "fpr, tpr, _ = roc_curve(y_test, y_pred_proba)\n",
    "plt.plot(fpr, tpr, label=f'ROC curve (area = {roc_auc:.2f})')\n",
    "plt.plot([0, 1], [0, 1], 'k--')  # Diagonal line\n",
    "plt.xlim([0.0, 1.0])\n",
    "plt.ylim([0.0, 1.05])\n",
    "plt.xlabel('False Positive Rate')\n",
    "plt.ylabel('True Positive Rate')\n",
    "plt.title('Receiver Operating Characteristic')\n",
    "plt.legend(loc='lower right')\n",
    "plt.show()"
   ]
  },
  {
   "cell_type": "code",
   "execution_count": null,
   "metadata": {},
   "outputs": [],
   "source": [
    "accuracy_score(y_test,y_pred)"
   ]
  },
  {
   "cell_type": "code",
   "execution_count": null,
   "metadata": {},
   "outputs": [],
   "source": [
    "report = classification_report(\n",
    "    y_test,\n",
    "    y_pred,\n",
    ")\n",
    "print(report)"
   ]
  },
  {
   "cell_type": "code",
   "execution_count": null,
   "metadata": {},
   "outputs": [],
   "source": [
    "print(f\"Log Loss: {log_loss(y_test, y_pred_proba)}\")"
   ]
  },
  {
   "cell_type": "code",
   "execution_count": null,
   "metadata": {},
   "outputs": [],
   "source": [
    "feature_importance = model.feature_importances_\n",
    "features = X_train.columns\n",
    "\n",
    "# Create a horizontal bar chart\n",
    "plt.figure(figsize=(10, 6))\n",
    "plt.barh(features, feature_importance)\n",
    "plt.xlabel(\"Importance\")\n",
    "plt.ylabel(\"Features\")\n",
    "plt.title(\"Feature Importance\")\n",
    "plt.show()"
   ]
  }
 ],
 "metadata": {
  "kernelspec": {
   "display_name": "kaggle-projects-l_2b9_F_-py3.10",
   "language": "python",
   "name": "python3"
  },
  "language_info": {
   "codemirror_mode": {
    "name": "ipython",
    "version": 3
   },
   "file_extension": ".py",
   "mimetype": "text/x-python",
   "name": "python",
   "nbconvert_exporter": "python",
   "pygments_lexer": "ipython3",
   "version": "3.10.12"
  }
 },
 "nbformat": 4,
 "nbformat_minor": 2
}
