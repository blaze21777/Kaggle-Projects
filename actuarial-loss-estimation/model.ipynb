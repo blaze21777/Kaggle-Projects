{
 "cells": [
  {
   "cell_type": "markdown",
   "metadata": {},
   "source": [
    " The challenge is to predict Workers Compensation claims using highly realistic synthetic data.\n",
    "\n",
    " The evaluation method is Root Mean Squared Error (RMSE)"
   ]
  },
  {
   "cell_type": "code",
   "execution_count": 106,
   "metadata": {},
   "outputs": [],
   "source": [
    "import pandas as pd\n",
    "import matplotlib.pyplot as plt\n",
    "import seaborn as sns\n",
    "import numpy as np\n",
    "from sklearn.model_selection import train_test_split\n",
    "from xgboost import XGBRegressor, plot_tree\n",
    "from sklearn.metrics import mean_squared_error"
   ]
  },
  {
   "cell_type": "code",
   "execution_count": 107,
   "metadata": {},
   "outputs": [
    {
     "name": "stdout",
     "output_type": "stream",
     "text": [
      "<class 'pandas.core.frame.DataFrame'>\n",
      "RangeIndex: 54000 entries, 0 to 53999\n",
      "Data columns (total 15 columns):\n",
      " #   Column                     Non-Null Count  Dtype              \n",
      "---  ------                     --------------  -----              \n",
      " 0   ClaimNumber                54000 non-null  object             \n",
      " 1   DateTimeOfAccident         54000 non-null  datetime64[ns, UTC]\n",
      " 2   DateReported               54000 non-null  datetime64[ns, UTC]\n",
      " 3   Age                        54000 non-null  int64              \n",
      " 4   Gender                     54000 non-null  object             \n",
      " 5   MaritalStatus              53971 non-null  object             \n",
      " 6   DependentChildren          54000 non-null  int64              \n",
      " 7   DependentsOther            54000 non-null  int64              \n",
      " 8   WeeklyWages                54000 non-null  float64            \n",
      " 9   PartTimeFullTime           54000 non-null  object             \n",
      " 10  HoursWorkedPerWeek         54000 non-null  float64            \n",
      " 11  DaysWorkedPerWeek          54000 non-null  int64              \n",
      " 12  ClaimDescription           54000 non-null  object             \n",
      " 13  InitialIncurredCalimsCost  54000 non-null  int64              \n",
      " 14  UltimateIncurredClaimCost  54000 non-null  float64            \n",
      "dtypes: datetime64[ns, UTC](2), float64(3), int64(5), object(5)\n",
      "memory usage: 6.2+ MB\n"
     ]
    }
   ],
   "source": [
    "df = pd.read_csv(\"train.csv\", parse_dates=[\"DateReported\", \"DateTimeOfAccident\"])\n",
    "\n",
    "df.info()"
   ]
  },
  {
   "cell_type": "markdown",
   "metadata": {},
   "source": [
    "### Preprocessing"
   ]
  },
  {
   "cell_type": "code",
   "execution_count": 108,
   "metadata": {},
   "outputs": [
    {
     "data": {
      "text/plain": [
       "array(['M', 'U', 'S', 'Unknown'], dtype=object)"
      ]
     },
     "execution_count": 108,
     "metadata": {},
     "output_type": "execute_result"
    }
   ],
   "source": [
    "# replace nan values with unknown \n",
    "df[\"MaritalStatus\"] = df[\"MaritalStatus\"].fillna('Unknown')\n",
    "df[\"MaritalStatus\"].unique()"
   ]
  },
  {
   "cell_type": "code",
   "execution_count": 109,
   "metadata": {},
   "outputs": [],
   "source": [
    "df[[\"Gender\", \"MaritalStatus\", \"PartTimeFullTime\"]] = df[\n",
    "    [\"Gender\", \"MaritalStatus\", \"PartTimeFullTime\"]\n",
    "].astype(\"category\")"
   ]
  },
  {
   "cell_type": "markdown",
   "metadata": {},
   "source": [
    "### Feature Engineering"
   ]
  },
  {
   "cell_type": "code",
   "execution_count": 110,
   "metadata": {},
   "outputs": [],
   "source": [
    "def index_place(df: pd.DataFrame, column_name) -> None:\n",
    "    col_index = df.columns.get_loc(\"DateTimeOfAccident\")\n",
    "\n",
    "    # make sure it's int to suppress error\n",
    "    if not isinstance(col_index, int):\n",
    "        raise ValueError(\"`datetime_col_index` must be an integer.\")\n",
    "\n",
    "    df.insert(col_index + 1, \"DateOfAccident\", df.pop(\"DateOfAccident\"))\n",
    "    df.insert(col_index + 2, \"TimeOfAccident\", df.pop(\"TimeOfAccident\"))\n"
   ]
  },
  {
   "cell_type": "code",
   "execution_count": 111,
   "metadata": {},
   "outputs": [],
   "source": [
    "df[\"DateOfAccident\"] = df[\"DateTimeOfAccident\"].dt.date\n",
    "df[\"TimeOfAccident\"] = df[\"DateTimeOfAccident\"].dt.time\n",
    "\n",
    "col_index = df.columns.get_loc(\"DateTimeOfAccident\")\n",
    "\n",
    "# make sure it's int to suppress error\n",
    "if not isinstance(col_index, int):\n",
    "    raise ValueError(\"`datetime_col_index` must be an integer.\")\n",
    "\n",
    "df.insert(col_index + 1, \"DateOfAccident\", df.pop(\"DateOfAccident\"))\n",
    "df.insert(col_index + 2, \"TimeOfAccident\", df.pop(\"TimeOfAccident\"))\n",
    "\n",
    "df[\"DateOfAccident\"] = pd.to_datetime(df[\"DateOfAccident\"], format=\"ISO8601\", utc=True)\n",
    "# df[\"TimeOfAccident\"] = pd.to_datetime(df[\"TimeOfAccident\"], format=\"%H:%M:%S\", utc=True)"
   ]
  },
  {
   "cell_type": "code",
   "execution_count": 112,
   "metadata": {},
   "outputs": [],
   "source": [
    "# Convert dates to format a model can understand\n",
    "df['AccidentDay'] = df['DateTimeOfAccident'].dt.day\n",
    "df['AccidentMonth'] = df['DateTimeOfAccident'].dt.month\n",
    "df['AccidentYear'] = df['DateTimeOfAccident'].dt.year\n",
    "df['AccidentWeekday'] = df['DateTimeOfAccident'].dt.weekday\n",
    "df['ReportedDay'] = df['DateReported'].dt.day\n",
    "df['ReportedMonth'] = df['DateReported'].dt.month\n",
    "df['ReportedYear'] = df['DateReported'].dt.year\n",
    "df['ReportedWeekday'] = df['DateReported'].dt.weekday"
   ]
  },
  {
   "cell_type": "code",
   "execution_count": 113,
   "metadata": {},
   "outputs": [
    {
     "data": {
      "text/plain": [
       "(54000, 25)"
      ]
     },
     "execution_count": 113,
     "metadata": {},
     "output_type": "execute_result"
    }
   ],
   "source": [
    "df_encoded = pd.get_dummies(\n",
    "    df[\n",
    "        [\n",
    "            # \"ClaimNumber\",\n",
    "            # \"DateTimeOfAccident\",\n",
    "            # \"DateOfAccident\",\n",
    "            # \"TimeOfAccident\",\n",
    "            # \"DateReported\",\n",
    "            \"Age\",\n",
    "            \"Gender\",\n",
    "            \"MaritalStatus\",\n",
    "            \"DependentChildren\",\n",
    "            \"DependentsOther\",\n",
    "            \"WeeklyWages\",\n",
    "            \"PartTimeFullTime\",\n",
    "            \"HoursWorkedPerWeek\",\n",
    "            \"DaysWorkedPerWeek\",\n",
    "            # \"ClaimDescription\",\n",
    "            \"InitialIncurredCalimsCost\",\n",
    "            \"UltimateIncurredClaimCost\",\n",
    "            \"AccidentDay\",\n",
    "            \"AccidentMonth\",\n",
    "            \"AccidentYear\",\n",
    "            \"AccidentWeekday\",\n",
    "            \"ReportedDay\",\n",
    "            \"ReportedMonth\",\n",
    "            \"ReportedYear\",\n",
    "            \"ReportedWeekday\",\n",
    "        ]\n",
    "    ],\n",
    ")\n",
    "df_encoded.shape"
   ]
  },
  {
   "cell_type": "code",
   "execution_count": 114,
   "metadata": {},
   "outputs": [
    {
     "data": {
      "text/plain": [
       "Index(['Age', 'DependentChildren', 'DependentsOther', 'WeeklyWages',\n",
       "       'HoursWorkedPerWeek', 'DaysWorkedPerWeek', 'InitialIncurredCalimsCost',\n",
       "       'UltimateIncurredClaimCost', 'AccidentDay', 'AccidentMonth',\n",
       "       'AccidentYear', 'AccidentWeekday', 'ReportedDay', 'ReportedMonth',\n",
       "       'ReportedYear', 'ReportedWeekday', 'Gender_F', 'Gender_M', 'Gender_U',\n",
       "       'MaritalStatus_M', 'MaritalStatus_S', 'MaritalStatus_U',\n",
       "       'MaritalStatus_Unknown', 'PartTimeFullTime_F', 'PartTimeFullTime_P'],\n",
       "      dtype='object')"
      ]
     },
     "execution_count": 114,
     "metadata": {},
     "output_type": "execute_result"
    }
   ],
   "source": [
    "df_encoded.columns"
   ]
  },
  {
   "cell_type": "markdown",
   "metadata": {},
   "source": [
    "### Train model"
   ]
  },
  {
   "cell_type": "code",
   "execution_count": 115,
   "metadata": {},
   "outputs": [],
   "source": [
    "X = df_encoded.drop(columns=['UltimateIncurredClaimCost'])\n",
    "y = df_encoded.UltimateIncurredClaimCost\n",
    "\n",
    "X_train, X_test, y_train, y_test = train_test_split(\n",
    "    X, y, test_size=0.2, random_state=42\n",
    ")"
   ]
  },
  {
   "cell_type": "code",
   "execution_count": 125,
   "metadata": {},
   "outputs": [],
   "source": [
    "params = {\n",
    "    \"objective\": \"reg:squarederror\",  # Regression objective\n",
    "    \"n_estimators\": 100,  # Number of trees (boosting rounds)\n",
    "    \"learning_rate\": 0.01,  # Learning rate\n",
    "    \"max_depth\": 3,  # Maximum depth of each tree\n",
    "    \"min_child_weight\": 3,  # Minimum sum of instance weight (hessian) in a child\n",
    "    \"subsample\": 0.8,  # Proportion of training data used for each tree\n",
    "    \"colsample_bytree\": 0.8,  # Fraction of features used for each tree\n",
    "    \"gamma\": 0.1,  # Minimum loss reduction to make a further partition on a leaf node\n",
    "    \"reg_alpha\": 0,  # L1 regularization term\n",
    "    \"reg_lambda\": 0,  # L2 regularization term\n",
    "    \"seed\": 42,  # Random seed for reproducibility\n",
    "}\n"
   ]
  },
  {
   "cell_type": "code",
   "execution_count": 126,
   "metadata": {},
   "outputs": [],
   "source": [
    "model = XGBRegressor(**params)\n",
    "model.fit(X_train, y_train);"
   ]
  },
  {
   "cell_type": "markdown",
   "metadata": {},
   "source": [
    "### Evaluate model"
   ]
  },
  {
   "cell_type": "code",
   "execution_count": 127,
   "metadata": {},
   "outputs": [
    {
     "name": "stdout",
     "output_type": "stream",
     "text": [
      "RMSE: 26416.249366011707\n"
     ]
    }
   ],
   "source": [
    "y_pred = model.predict(X_test)\n",
    "\n",
    "rmse = np.sqrt(mean_squared_error(y_test, y_pred))\n",
    "print(\"RMSE:\", rmse)"
   ]
  },
  {
   "cell_type": "code",
   "execution_count": 129,
   "metadata": {},
   "outputs": [
    {
     "data": {
      "image/png": "[encoded data removed]",
      "text/plain": [
       "<Figure size 640x480 with 1 Axes>"
      ]
     },
     "metadata": {},
     "output_type": "display_data"
    }
   ],
   "source": [
    "plt.scatter(y_test[:50], y_pred[:50])\n",
    "plt.xlabel(\"Actual Values\")\n",
    "plt.ylabel(\"Predicted Values\")\n",
    "plt.ticklabel_format(style='plain')\n",
    "plt.title(\"Actual vs. Predicted Values\")\n",
    "plt.show()"
   ]
  },
  {
   "cell_type": "code",
   "execution_count": 120,
   "metadata": {},
   "outputs": [
    {
     "data": {
      "text/html": [
       "<div>\n",
       "<style scoped>\n",
       "    .dataframe tbody tr th:only-of-type {\n",
       "        vertical-align: middle;\n",
       "    }\n",
       "\n",
       "    .dataframe tbody tr th {\n",
       "        vertical-align: top;\n",
       "    }\n",
       "\n",
       "    .dataframe thead th {\n",
       "        text-align: right;\n",
       "    }\n",
       "</style>\n",
       "<table border=\"1\" class=\"dataframe\">\n",
       "  <thead>\n",
       "    <tr style=\"text-align: right;\">\n",
       "      <th></th>\n",
       "      <th>y_pred</th>\n",
       "      <th>y_test</th>\n",
       "      <th>diff</th>\n",
       "    </tr>\n",
       "  </thead>\n",
       "  <tbody>\n",
       "    <tr>\n",
       "      <th>30246</th>\n",
       "      <td>5781.68750</td>\n",
       "      <td>4186.83823</td>\n",
       "      <td>-1594.84927</td>\n",
       "    </tr>\n",
       "    <tr>\n",
       "      <th>34164</th>\n",
       "      <td>4056.08032</td>\n",
       "      <td>1805.47570</td>\n",
       "      <td>-2250.60462</td>\n",
       "    </tr>\n",
       "    <tr>\n",
       "      <th>40692</th>\n",
       "      <td>9201.83789</td>\n",
       "      <td>2679.33946</td>\n",
       "      <td>-6522.49844</td>\n",
       "    </tr>\n",
       "    <tr>\n",
       "      <th>28724</th>\n",
       "      <td>278.47910</td>\n",
       "      <td>525.62733</td>\n",
       "      <td>247.14823</td>\n",
       "    </tr>\n",
       "    <tr>\n",
       "      <th>28097</th>\n",
       "      <td>93.50453</td>\n",
       "      <td>3859.03818</td>\n",
       "      <td>3765.53365</td>\n",
       "    </tr>\n",
       "    <tr>\n",
       "      <th>31492</th>\n",
       "      <td>41295.83984</td>\n",
       "      <td>144567.47040</td>\n",
       "      <td>103271.63056</td>\n",
       "    </tr>\n",
       "    <tr>\n",
       "      <th>7950</th>\n",
       "      <td>9035.00195</td>\n",
       "      <td>4633.23118</td>\n",
       "      <td>-4401.77077</td>\n",
       "    </tr>\n",
       "    <tr>\n",
       "      <th>40973</th>\n",
       "      <td>124786.66406</td>\n",
       "      <td>94457.47335</td>\n",
       "      <td>-30329.19071</td>\n",
       "    </tr>\n",
       "    <tr>\n",
       "      <th>4448</th>\n",
       "      <td>9886.67285</td>\n",
       "      <td>19168.43094</td>\n",
       "      <td>9281.75809</td>\n",
       "    </tr>\n",
       "    <tr>\n",
       "      <th>26354</th>\n",
       "      <td>2131.66992</td>\n",
       "      <td>2133.62325</td>\n",
       "      <td>1.95333</td>\n",
       "    </tr>\n",
       "    <tr>\n",
       "      <th>49597</th>\n",
       "      <td>9878.04004</td>\n",
       "      <td>4992.94241</td>\n",
       "      <td>-4885.09763</td>\n",
       "    </tr>\n",
       "    <tr>\n",
       "      <th>36567</th>\n",
       "      <td>34096.81641</td>\n",
       "      <td>10489.29505</td>\n",
       "      <td>-23607.52136</td>\n",
       "    </tr>\n",
       "    <tr>\n",
       "      <th>45083</th>\n",
       "      <td>6567.50439</td>\n",
       "      <td>2459.41999</td>\n",
       "      <td>-4108.08441</td>\n",
       "    </tr>\n",
       "    <tr>\n",
       "      <th>46613</th>\n",
       "      <td>-847.98767</td>\n",
       "      <td>933.52993</td>\n",
       "      <td>1781.51760</td>\n",
       "    </tr>\n",
       "    <tr>\n",
       "      <th>51967</th>\n",
       "      <td>2557.81836</td>\n",
       "      <td>498.10050</td>\n",
       "      <td>-2059.71786</td>\n",
       "    </tr>\n",
       "    <tr>\n",
       "      <th>2960</th>\n",
       "      <td>6868.89648</td>\n",
       "      <td>560.49356</td>\n",
       "      <td>-6308.40292</td>\n",
       "    </tr>\n",
       "    <tr>\n",
       "      <th>25326</th>\n",
       "      <td>3285.03760</td>\n",
       "      <td>2425.44662</td>\n",
       "      <td>-859.59098</td>\n",
       "    </tr>\n",
       "    <tr>\n",
       "      <th>40451</th>\n",
       "      <td>-1159.93188</td>\n",
       "      <td>942.65044</td>\n",
       "      <td>2102.58233</td>\n",
       "    </tr>\n",
       "    <tr>\n",
       "      <th>20286</th>\n",
       "      <td>4725.15186</td>\n",
       "      <td>7095.96495</td>\n",
       "      <td>2370.81309</td>\n",
       "    </tr>\n",
       "    <tr>\n",
       "      <th>35002</th>\n",
       "      <td>11883.00879</td>\n",
       "      <td>6654.10571</td>\n",
       "      <td>-5228.90308</td>\n",
       "    </tr>\n",
       "  </tbody>\n",
       "</table>\n",
       "</div>"
      ],
      "text/plain": [
       "             y_pred        y_test          diff\n",
       "30246    5781.68750    4186.83823   -1594.84927\n",
       "34164    4056.08032    1805.47570   -2250.60462\n",
       "40692    9201.83789    2679.33946   -6522.49844\n",
       "28724     278.47910     525.62733     247.14823\n",
       "28097      93.50453    3859.03818    3765.53365\n",
       "31492   41295.83984  144567.47040  103271.63056\n",
       "7950     9035.00195    4633.23118   -4401.77077\n",
       "40973  124786.66406   94457.47335  -30329.19071\n",
       "4448     9886.67285   19168.43094    9281.75809\n",
       "26354    2131.66992    2133.62325       1.95333\n",
       "49597    9878.04004    4992.94241   -4885.09763\n",
       "36567   34096.81641   10489.29505  -23607.52136\n",
       "45083    6567.50439    2459.41999   -4108.08441\n",
       "46613    -847.98767     933.52993    1781.51760\n",
       "51967    2557.81836     498.10050   -2059.71786\n",
       "2960     6868.89648     560.49356   -6308.40292\n",
       "25326    3285.03760    2425.44662    -859.59098\n",
       "40451   -1159.93188     942.65044    2102.58233\n",
       "20286    4725.15186    7095.96495    2370.81309\n",
       "35002   11883.00879    6654.10571   -5228.90308"
      ]
     },
     "execution_count": 120,
     "metadata": {},
     "output_type": "execute_result"
    }
   ],
   "source": [
    "# Create a DataFrame with y_pred and y_test as columns\n",
    "df_pred = pd.DataFrame({\"y_pred\": y_pred, \"y_test\": y_test})\n",
    "\n",
    "# Print the DataFrame\n",
    "df_pred[\"diff\"] = df_pred[\"y_test\"] - df_pred[\"y_pred\"]\n",
    "df_pred.head(20).apply(lambda x: x.apply('{0:.5f}'.format))"
   ]
  },
  {
   "cell_type": "code",
   "execution_count": 121,
   "metadata": {},
   "outputs": [
    {
     "data": {
      "text/html": [
       "<div>\n",
       "<style scoped>\n",
       "    .dataframe tbody tr th:only-of-type {\n",
       "        vertical-align: middle;\n",
       "    }\n",
       "\n",
       "    .dataframe tbody tr th {\n",
       "        vertical-align: top;\n",
       "    }\n",
       "\n",
       "    .dataframe thead th {\n",
       "        text-align: right;\n",
       "    }\n",
       "</style>\n",
       "<table border=\"1\" class=\"dataframe\">\n",
       "  <thead>\n",
       "    <tr style=\"text-align: right;\">\n",
       "      <th></th>\n",
       "      <th>y_pred</th>\n",
       "      <th>y_test</th>\n",
       "      <th>diff</th>\n",
       "    </tr>\n",
       "  </thead>\n",
       "  <tbody>\n",
       "    <tr>\n",
       "      <th>count</th>\n",
       "      <td>10800.00000</td>\n",
       "      <td>10800.00000</td>\n",
       "      <td>10800.00000</td>\n",
       "    </tr>\n",
       "    <tr>\n",
       "      <th>mean</th>\n",
       "      <td>11606.57715</td>\n",
       "      <td>10990.98864</td>\n",
       "      <td>-615.58842</td>\n",
       "    </tr>\n",
       "    <tr>\n",
       "      <th>std</th>\n",
       "      <td>25260.19141</td>\n",
       "      <td>30132.06620</td>\n",
       "      <td>30479.78298</td>\n",
       "    </tr>\n",
       "    <tr>\n",
       "      <th>min</th>\n",
       "      <td>-357499.78125</td>\n",
       "      <td>123.16488</td>\n",
       "      <td>-905571.72187</td>\n",
       "    </tr>\n",
       "    <tr>\n",
       "      <th>25%</th>\n",
       "      <td>1463.18744</td>\n",
       "      <td>910.73964</td>\n",
       "      <td>-5184.45507</td>\n",
       "    </tr>\n",
       "    <tr>\n",
       "      <th>50%</th>\n",
       "      <td>5376.97510</td>\n",
       "      <td>3409.28618</td>\n",
       "      <td>-1457.37815</td>\n",
       "    </tr>\n",
       "    <tr>\n",
       "      <th>75%</th>\n",
       "      <td>12554.83594</td>\n",
       "      <td>8172.21420</td>\n",
       "      <td>1171.48480</td>\n",
       "    </tr>\n",
       "    <tr>\n",
       "      <th>max</th>\n",
       "      <td>950984.00000</td>\n",
       "      <td>865770.64860</td>\n",
       "      <td>859732.28630</td>\n",
       "    </tr>\n",
       "  </tbody>\n",
       "</table>\n",
       "</div>"
      ],
      "text/plain": [
       "              y_pred        y_test           diff\n",
       "count    10800.00000   10800.00000    10800.00000\n",
       "mean     11606.57715   10990.98864     -615.58842\n",
       "std      25260.19141   30132.06620    30479.78298\n",
       "min    -357499.78125     123.16488  -905571.72187\n",
       "25%       1463.18744     910.73964    -5184.45507\n",
       "50%       5376.97510    3409.28618    -1457.37815\n",
       "75%      12554.83594    8172.21420     1171.48480\n",
       "max     950984.00000  865770.64860   859732.28630"
      ]
     },
     "execution_count": 121,
     "metadata": {},
     "output_type": "execute_result"
    }
   ],
   "source": [
    "df_pred.describe().apply(lambda x: x.apply('{0:.5f}'.format))"
   ]
  },
  {
   "cell_type": "code",
   "execution_count": 124,
   "metadata": {},
   "outputs": [
    {
     "data": {
      "image/png": "[encoded data removed]",
      "text/plain": [
       "<Figure size 640x480 with 1 Axes>"
      ]
     },
     "metadata": {},
     "output_type": "display_data"
    }
   ],
   "source": [
    "df_pred.plot(kind='box')\n",
    "plt.title('Box Plot of Predicted Values')\n",
    "plt.ylabel('Predicted Values')\n",
    "plt.show()"
   ]
  }
 ],
 "metadata": {
  "kernelspec": {
   "display_name": "kaggle-projects-l_2b9_F_-py3.10",
   "language": "python",
   "name": "python3"
  },
  "language_info": {
   "codemirror_mode": {
    "name": "ipython",
    "version": 3
   },
   "file_extension": ".py",
   "mimetype": "text/x-python",
   "name": "python",
   "nbconvert_exporter": "python",
   "pygments_lexer": "ipython3",
   "version": "3.10.12"
  }
 },
 "nbformat": 4,
 "nbformat_minor": 2
}
