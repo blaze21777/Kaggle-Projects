{
 "cells": [
  {
   "cell_type": "code",
   "execution_count": 4,
   "metadata": {},
   "outputs": [],
   "source": [
    "import gensim\n",
    "import matplotlib.pyplot as plt\n",
    "import nltk\n",
    "import numpy as np\n",
    "import pandas as pd\n",
    "import seaborn as sns\n",
    "from gensim.models import Word2Vec\n",
    "from nltk.corpus import stopwords\n",
    "from nltk.stem import WordNetLemmatizer\n",
    "from nltk.stem.porter import PorterStemmer\n",
    "from sklearn.metrics import mean_squared_error\n",
    "from sklearn.model_selection import train_test_split\n",
    "from xgboost import XGBRegressor, plot_tree"
   ]
  },
  {
   "cell_type": "code",
   "execution_count": 44,
   "metadata": {},
   "outputs": [],
   "source": [
    "plt.style.use('dark_background')"
   ]
  },
  {
   "cell_type": "code",
   "execution_count": null,
   "metadata": {},
   "outputs": [],
   "source": [
    "nltk.download(\"all\")"
   ]
  },
  {
   "cell_type": "code",
   "execution_count": 5,
   "metadata": {},
   "outputs": [],
   "source": [
    "# Disable scientific notation\n",
    "pd.set_option('display.float_format', lambda x: '%.9f' % x)\n",
    "# pd.reset_option('display.float_format')"
   ]
  },
  {
   "cell_type": "code",
   "execution_count": 6,
   "metadata": {},
   "outputs": [],
   "source": [
    "df = pd.read_csv(\"train.csv\", parse_dates=[\"DateReported\", \"DateTimeOfAccident\"])"
   ]
  },
  {
   "cell_type": "code",
   "execution_count": 7,
   "metadata": {},
   "outputs": [
    {
     "data": {
      "text/plain": [
       "ClaimDescription\n",
       "SLIPPED ON ROLLER TENDONITIS RIGHT SHOULDER                      289\n",
       "SORTING ALUMINIUM BARS STRAIN SHOULDER NECK                      278\n",
       "SLIPPED USING LATHE IN EYE CORNEA                                258\n",
       "REDBACK SPIDER BITE RIGHT FOOT RIGHT FRACTURE                    256\n",
       "LIFTING TYRES LOWER BACK STRAIN                                  255\n",
       "                                                                ... \n",
       "STRUCK SLICING MACHINE LACERATION INDEX FINGER                     1\n",
       "STRUCK PIECE METAL BURN RIGHT HAND                                 1\n",
       "SLIPPED ON FLOOR AND STRUCK HEAD STRAINED NECK                     1\n",
       "TURNING PALLET PALLET JACK LACERATED RIGHT RING FINGER             1\n",
       "CUT WITH BREAD KNIFE LACERATION LEFT INDEX AND MIDDLE FINGERS      1\n",
       "Name: count, Length: 28114, dtype: int64"
      ]
     },
     "execution_count": 7,
     "metadata": {},
     "output_type": "execute_result"
    }
   ],
   "source": [
    "df['ClaimDescription'].value_counts()"
   ]
  },
  {
   "cell_type": "code",
   "execution_count": 8,
   "metadata": {},
   "outputs": [
    {
     "data": {
      "text/plain": [
       "ClaimDescription\n",
       "SLIPPED ON WET FLOOR FRACTURED BASE OF HAND                  4027135.935000000\n",
       "WHILST MASSAGING FELT PAIN SOFT TISSUE INJURY LEFT HAND       865770.648600000\n",
       "TABLE TIPPED OVER SOFT TISSUE INJURY RIGHT HAND               823706.301200000\n",
       "HANDLING BROCOLLI PAIN AND SWELLING LEFT KNEE SOFT TISSUE     525713.324100000\n",
       "STAPLED FINGER WITH KNIFE STRESS TRAUMA                       516434.166400000\n",
       "                                                                    ...       \n",
       "METAL FOREIGN BODY LEFT EYE                                      142.377807900\n",
       "HIT AGAINST WELDER MACHINE BRUISED ABRASION RIGHT EYE            141.288946600\n",
       "PARTICLE FELL INTO EYE FOREIGN BODY IN LEFT SHOULDER             134.320349900\n",
       "PARTICLE IN EYE WHILE GRINDING FOREIGN BODY RIGHT EYE AREA       131.457013000\n",
       "GLASS INTO EYE FOREIGN BODY LEFT EYE                             124.579660900\n",
       "Name: UltimateIncurredClaimCost, Length: 28114, dtype: float64"
      ]
     },
     "execution_count": 8,
     "metadata": {},
     "output_type": "execute_result"
    }
   ],
   "source": [
    "df.groupby([\"ClaimDescription\"])[\"UltimateIncurredClaimCost\"].median().sort_values(\n",
    "    ascending=False\n",
    ")"
   ]
  },
  {
   "cell_type": "code",
   "execution_count": 9,
   "metadata": {},
   "outputs": [],
   "source": [
    "stops = stopwords.words(\"english\")\n",
    "\n",
    "\n",
    "def text_clean(claim):\n",
    "    # Converting to Lower Case\n",
    "    claim = claim.lower()\n",
    "    # Getting List Of Words\n",
    "    claim = claim.split()\n",
    "    # Removing Stop Words(Words which do not add any information like =is,are,I etc)\n",
    "    claim = [word for word in claim if word not in stops]\n",
    "    # Stemming the word(words like playing ,played are replaced with play)\n",
    "    porter_stemmer = PorterStemmer()\n",
    "    stem_claim = [porter_stemmer.stem(word) for word in claim]\n",
    "\n",
    "    # Lemmatizing the words (replacing words with their base form)\n",
    "    lemmatizer = WordNetLemmatizer()\n",
    "    lem_claim = [lemmatizer.lemmatize(word) for word in claim]\n",
    "    return lem_claim, stem_claim"
   ]
  },
  {
   "cell_type": "code",
   "execution_count": 10,
   "metadata": {},
   "outputs": [],
   "source": [
    "df[\"ClaimDescriptionClean\"] = df[\"ClaimDescription\"].apply(\n",
    "    lambda x: \" \".join(text_clean(x)[0])\n",
    ")"
   ]
  },
  {
   "cell_type": "code",
   "execution_count": 11,
   "metadata": {},
   "outputs": [
    {
     "data": {
      "text/plain": [
       "'lifting tyre injury right arm wrist injury'"
      ]
     },
     "execution_count": 11,
     "metadata": {},
     "output_type": "execute_result"
    }
   ],
   "source": [
    "\" \".join(text_clean(df[\"ClaimDescription\"][0])[0])"
   ]
  },
  {
   "cell_type": "code",
   "execution_count": 12,
   "metadata": {},
   "outputs": [
    {
     "data": {
      "text/plain": [
       "'lift tyre injuri right arm wrist injuri'"
      ]
     },
     "execution_count": 12,
     "metadata": {},
     "output_type": "execute_result"
    }
   ],
   "source": [
    "\" \".join(text_clean(df[\"ClaimDescription\"][0])[1])"
   ]
  },
  {
   "cell_type": "code",
   "execution_count": 13,
   "metadata": {},
   "outputs": [
    {
     "data": {
      "text/plain": [
       "'lifting tyre injury right arm wrist injury'"
      ]
     },
     "execution_count": 13,
     "metadata": {},
     "output_type": "execute_result"
    }
   ],
   "source": [
    "df[\"ClaimDescriptionClean\"][0]"
   ]
  },
  {
   "cell_type": "code",
   "execution_count": 14,
   "metadata": {},
   "outputs": [
    {
     "data": {
      "text/plain": [
       "ClaimDescriptionClean\n",
       "slipped roller tendonitis right shoulder                   289\n",
       "sorting aluminium bar strain shoulder neck                 278\n",
       "slipped using lathe eye cornea                             258\n",
       "lifting tyre lower back strain                             257\n",
       "redback spider bite right foot right fracture              256\n",
       "                                                          ... \n",
       "dust blew eye foreign body eye                               1\n",
       "lifting fertiliser truck torn ligament right ankle           1\n",
       "clothing caught machine lacerated left index finger          1\n",
       "truck involved accident fractured rib bruised rib chest      1\n",
       "cut bread knife laceration left index middle finger          1\n",
       "Name: count, Length: 27788, dtype: int64"
      ]
     },
     "execution_count": 14,
     "metadata": {},
     "output_type": "execute_result"
    }
   ],
   "source": [
    "df['ClaimDescriptionClean'].value_counts()"
   ]
  },
  {
   "cell_type": "code",
   "execution_count": 15,
   "metadata": {},
   "outputs": [
    {
     "data": {
      "text/plain": [
       "27788"
      ]
     },
     "execution_count": 15,
     "metadata": {},
     "output_type": "execute_result"
    }
   ],
   "source": [
    "len(df['ClaimDescriptionClean'].unique())"
   ]
  },
  {
   "cell_type": "code",
   "execution_count": 16,
   "metadata": {},
   "outputs": [],
   "source": [
    "corpus = df['ClaimDescriptionClean']\n",
    "list_tokens = nltk.tokenize.word_tokenize(corpus.str.cat(sep=\" \"))"
   ]
  },
  {
   "cell_type": "code",
   "execution_count": 36,
   "metadata": {},
   "outputs": [
    {
     "data": {
      "text/plain": [
       "345273"
      ]
     },
     "execution_count": 36,
     "metadata": {},
     "output_type": "execute_result"
    }
   ],
   "source": [
    "len(list_tokens)"
   ]
  },
  {
   "cell_type": "code",
   "execution_count": 22,
   "metadata": {},
   "outputs": [],
   "source": [
    "# Tokenize the claim descriptions\n",
    "tokenized_descriptions = [claim.split() for claim in df[\"ClaimDescription\"]]\n",
    "\n",
    "# Train a Word2Vec model\n",
    "model = Word2Vec(\n",
    "    tokenized_descriptions, min_count=1, vector_size=100, workers=4\n",
    ")  # Adjust vector_size as needed\n",
    "\n",
    "\n",
    "# Create embeddings for each claim\n",
    "def create_embedding(claim):\n",
    "    words = claim.split()\n",
    "    embeddings = [model.wv[word] for word in words if word in model.wv]\n",
    "    if embeddings:\n",
    "        return np.mean(embeddings, axis=0)\n",
    "    else:\n",
    "        return np.zeros(model.vector_size)\n"
   ]
  },
  {
   "cell_type": "code",
   "execution_count": 23,
   "metadata": {},
   "outputs": [
    {
     "data": {
      "text/plain": [
       "array([0., 0., 0., 0., 0., 0., 0., 0., 0., 0., 0., 0., 0., 0., 0., 0., 0.,\n",
       "       0., 0., 0., 0., 0., 0., 0., 0., 0., 0., 0., 0., 0., 0., 0., 0., 0.,\n",
       "       0., 0., 0., 0., 0., 0., 0., 0., 0., 0., 0., 0., 0., 0., 0., 0., 0.,\n",
       "       0., 0., 0., 0., 0., 0., 0., 0., 0., 0., 0., 0., 0., 0., 0., 0., 0.,\n",
       "       0., 0., 0., 0., 0., 0., 0., 0., 0., 0., 0., 0., 0., 0., 0., 0., 0.,\n",
       "       0., 0., 0., 0., 0., 0., 0., 0., 0., 0., 0., 0., 0., 0., 0.])"
      ]
     },
     "execution_count": 23,
     "metadata": {},
     "output_type": "execute_result"
    }
   ],
   "source": [
    "create_embedding(df[\"ClaimDescriptionClean\"][3])"
   ]
  },
  {
   "cell_type": "code",
   "execution_count": 24,
   "metadata": {},
   "outputs": [
    {
     "name": "stdout",
     "output_type": "stream",
     "text": [
      "digging lower back lower back strain\n"
     ]
    }
   ],
   "source": [
    "print(df[\"ClaimDescriptionClean\"][3])"
   ]
  },
  {
   "cell_type": "code",
   "execution_count": 25,
   "metadata": {},
   "outputs": [
    {
     "name": "stdout",
     "output_type": "stream",
     "text": [
      "3728\n",
      "['RIGHT', 'LEFT', 'BACK', 'STRAIN', 'LOWER', 'AND', 'FINGER', 'LIFTING', 'HAND', 'STRUCK']\n"
     ]
    }
   ],
   "source": [
    "print(len(model.wv.key_to_index))\n",
    "print(list(model.wv.key_to_index.keys())[:10])"
   ]
  },
  {
   "cell_type": "code",
   "execution_count": 26,
   "metadata": {},
   "outputs": [
    {
     "name": "stdout",
     "output_type": "stream",
     "text": [
      "Sample word: RIGHT\n",
      "[-0.10175563  0.6583534   0.95527285  0.7208346  -0.2041652  -0.30136552\n",
      "  0.76158476  0.9332118  -1.7549609   0.2375708  -0.11861525 -0.85763395\n",
      " -0.4353855   0.2118297  -0.33718163  0.6005928   0.32347652  0.7010614\n",
      "  0.28350136 -0.46172208 -0.47924986 -0.1422837   0.52645344 -0.15748855\n",
      "  0.18470347 -0.08344705 -0.47350228 -0.3045136  -0.3412887  -0.74656785\n",
      " -0.32685605 -0.07933708  0.50927955 -0.01561446 -0.6690312  -0.4027261\n",
      "  0.52763385  0.07233383  0.5313693   0.01806948 -0.82588917  0.10389394\n",
      " -1.0427263   0.03756323 -0.41006368  0.2267026   0.28285652  0.4519796\n",
      "  0.06871233  0.60144454  0.41071334  0.75302297 -0.00496789  0.60424715\n",
      "  0.7083918   0.19981773  0.86145145  0.07523016 -0.34319252  0.92803127\n",
      " -1.3560705  -0.08140198 -0.54078484 -0.74592376 -0.16427861 -0.24456559\n",
      " -0.24518888 -0.796158    0.8186502   0.67535347 -0.41523224  0.4979192\n",
      "  0.308267   -0.41160345  0.48634443  0.41881144 -0.3536651   0.5056039\n",
      " -0.38932624 -0.27368408  0.13566524  1.0224416   0.33488467 -0.11787385\n",
      " -0.44773245  0.06812601 -0.18653181 -0.24824351  0.7934574   0.8553569\n",
      " -0.02649822 -0.35491106  0.02252246 -0.5000451   1.9253135   0.52968025\n",
      " -0.1285613  -0.35409456  0.36849567  0.417421  ]\n"
     ]
    }
   ],
   "source": [
    "sample_word = list(model.wv.key_to_index.keys())[0]\n",
    "print(f\"Sample word: {sample_word}\")\n",
    "print(model.wv[sample_word])"
   ]
  },
  {
   "cell_type": "code",
   "execution_count": 27,
   "metadata": {},
   "outputs": [
    {
     "name": "stdout",
     "output_type": "stream",
     "text": [
      "Words in claim: ['digging', 'lower', 'back', 'lower', 'back', 'strain']\n",
      "Word not in vocabulary: digging\n",
      "Word not in vocabulary: lower\n",
      "Word not in vocabulary: back\n",
      "Word not in vocabulary: lower\n",
      "Word not in vocabulary: back\n",
      "Word not in vocabulary: strain\n",
      "No words found in vocabulary\n",
      "Resulting embedding: [0. 0. 0. 0. 0. 0. 0. 0. 0. 0. 0. 0. 0. 0. 0. 0. 0. 0. 0. 0. 0. 0. 0. 0.\n",
      " 0. 0. 0. 0. 0. 0. 0. 0. 0. 0. 0. 0. 0. 0. 0. 0. 0. 0. 0. 0. 0. 0. 0. 0.\n",
      " 0. 0. 0. 0. 0. 0. 0. 0. 0. 0. 0. 0. 0. 0. 0. 0. 0. 0. 0. 0. 0. 0. 0. 0.\n",
      " 0. 0. 0. 0. 0. 0. 0. 0. 0. 0. 0. 0. 0. 0. 0. 0. 0. 0. 0. 0. 0. 0. 0. 0.\n",
      " 0. 0. 0. 0.]\n"
     ]
    }
   ],
   "source": [
    "def create_embedding(claim):\n",
    "    words = claim.split()\n",
    "    print(f\"Words in claim: {words}\")\n",
    "    embeddings = []\n",
    "    for word in words:\n",
    "        if word in model.wv:\n",
    "            embeddings.append(model.wv[word])\n",
    "        else:\n",
    "            print(f\"Word not in vocabulary: {word}\")\n",
    "    if embeddings:\n",
    "        return np.mean(embeddings, axis=0)\n",
    "    else:\n",
    "        print(\"No words found in vocabulary\")\n",
    "        return np.zeros(model.vector_size)\n",
    "\n",
    "# Test the function\n",
    "result = create_embedding(df[\"ClaimDescriptionClean\"][3])\n",
    "print(\"Resulting embedding:\", result)"
   ]
  },
  {
   "cell_type": "code",
   "execution_count": 28,
   "metadata": {},
   "outputs": [
    {
     "name": "stdout",
     "output_type": "stream",
     "text": [
      "Number of documents: 54000\n",
      "First few documents:\n",
      "['LIFTING', 'TYRE', 'INJURY', 'TO', 'RIGHT', 'ARM', 'AND', 'WRIST', 'INJURY']\n",
      "['STEPPED', 'AROUND', 'CRATES', 'AND', 'TRUCK', 'TRAY', 'FRACTURE', 'LEFT', 'FOREARM']\n",
      "['CUT', 'ON', 'SHARP', 'EDGE', 'CUT', 'LEFT', 'THUMB']\n",
      "['DIGGING', 'LOWER', 'BACK', 'LOWER', 'BACK', 'STRAIN']\n",
      "['REACHING', 'ABOVE', 'SHOULDER', 'LEVEL', 'ACUTE', 'MUSCLE', 'STRAIN', 'LEFT', 'SIDE', 'OF', 'STOMACH']\n"
     ]
    }
   ],
   "source": [
    "print(\"Number of documents:\", len(tokenized_descriptions))\n",
    "print(\"First few documents:\")\n",
    "for doc in tokenized_descriptions[:5]:\n",
    "    print(doc)"
   ]
  },
  {
   "cell_type": "code",
   "execution_count": 29,
   "metadata": {},
   "outputs": [
    {
     "name": "stdout",
     "output_type": "stream",
     "text": [
      "Vocabulary size: 3728\n",
      "First 20 words in vocabulary: ['RIGHT', 'LEFT', 'BACK', 'STRAIN', 'LOWER', 'AND', 'FINGER', 'LIFTING', 'HAND', 'STRUCK', 'SHOULDER', 'FELL', 'SLIPPED', 'LACERATION', 'EYE', 'KNEE', 'LACERATED', 'ON', 'INJURY', 'STRAINED']\n"
     ]
    }
   ],
   "source": [
    "print(\"Vocabulary size:\", len(model.wv.key_to_index))\n",
    "print(\"First 20 words in vocabulary:\", list(model.wv.key_to_index.keys())[:20])"
   ]
  },
  {
   "cell_type": "code",
   "execution_count": 30,
   "metadata": {},
   "outputs": [
    {
     "name": "stdout",
     "output_type": "stream",
     "text": [
      "Vocabulary size after retraining: 3266\n",
      "Resulting embedding: [-1.0359119   0.18308967 -0.27562025 -0.27010843  0.01433389  0.32292718\n",
      " -0.44161847  1.1572279   0.00411253 -0.4153541   0.02969339 -0.98321337\n",
      "  0.49790058 -0.15149489  0.00603051 -0.5391729   0.31317052 -0.30870354\n",
      " -0.41747975 -0.62126434 -0.31148735 -0.3890355   0.4376317   0.6981385\n",
      " -0.20732255  0.0579293   0.5403396  -0.20927645 -0.18629877  0.34561244\n",
      "  0.30461514 -0.23396893 -0.32734206 -1.0712107   0.05818431  0.09277325\n",
      "  0.18221919 -0.6712653  -0.16063459  0.5639011   0.3649778   0.22489762\n",
      " -0.32188717 -0.07146738  0.693151   -0.6176775   0.03500528  0.04921145\n",
      "  0.07762853 -0.46086755  0.5747488  -0.11274669  0.1942095  -0.7648523\n",
      " -0.3594943  -1.0433583   0.01900984 -0.6914578   0.02898107  0.10880703\n",
      "  0.35397694 -0.42269742  0.6009862   0.21829133 -0.5208097   0.11369121\n",
      "  0.34343454  0.63558143 -0.17981929  0.37399217  0.5637087   0.33639026\n",
      "  0.04915248  0.18770261  0.47261032  0.19964387  0.5784487   0.01805538\n",
      " -0.07843523  0.0331597  -0.11654667 -0.02398708 -0.7279257   0.4581274\n",
      " -0.635952   -0.6820585   0.8173483   0.3317568   0.48834324  0.37429082\n",
      "  0.13962685  0.2657176   0.5636429  -0.5378533   1.3648286   0.628102\n",
      "  0.46117154 -0.39870104  0.15887383 -0.34922194]\n",
      "Is the embedding non-zero? True\n"
     ]
    }
   ],
   "source": [
    "# Ensure tokenized_descriptions is correct\n",
    "tokenized_descriptions = [claim.split() for claim in df[\"ClaimDescriptionClean\"]]\n",
    "\n",
    "# Train the Word2Vec model\n",
    "model = Word2Vec(sentences=tokenized_descriptions, vector_size=100, window=5, min_count=1, workers=4)\n",
    "\n",
    "# Check the vocabulary size again\n",
    "print(\"Vocabulary size after retraining:\", len(model.wv.key_to_index))\n",
    "\n",
    "# Test the embedding function again\n",
    "def create_embedding(claim):\n",
    "    words = claim.split()\n",
    "    embeddings = [model.wv[word] for word in words if word in model.wv]\n",
    "    if embeddings:\n",
    "        return np.mean(embeddings, axis=0)\n",
    "    else:\n",
    "        return np.zeros(model.vector_size)\n",
    "\n",
    "# Test on the same claim as before\n",
    "result = create_embedding(df[\"ClaimDescriptionClean\"][3])\n",
    "print(\"Resulting embedding:\", result)\n",
    "print(\"Is the embedding non-zero?\", np.any(result != 0))"
   ]
  },
  {
   "cell_type": "code",
   "execution_count": 31,
   "metadata": {},
   "outputs": [
    {
     "name": "stdout",
     "output_type": "stream",
     "text": [
      "First few cleaned claim descriptions:\n",
      "0           lifting tyre injury right arm wrist injury\n",
      "1    stepped around crate truck tray fracture left ...\n",
      "2                        cut sharp edge cut left thumb\n",
      "3                 digging lower back lower back strain\n",
      "4    reaching shoulder level acute muscle strain le...\n",
      "Name: ClaimDescriptionClean, dtype: object\n",
      "\n",
      "Number of empty strings: 0\n",
      "Number of NaN values: 0\n"
     ]
    }
   ],
   "source": [
    "print(\"First few cleaned claim descriptions:\")\n",
    "print(df[\"ClaimDescriptionClean\"].head())\n",
    "\n",
    "# Check for empty strings or NaN values\n",
    "print(\"\\nNumber of empty strings:\", (df[\"ClaimDescriptionClean\"] == \"\").sum())\n",
    "print(\"Number of NaN values:\", df[\"ClaimDescriptionClean\"].isna().sum())"
   ]
  },
  {
   "cell_type": "code",
   "execution_count": 32,
   "metadata": {},
   "outputs": [
    {
     "name": "stdout",
     "output_type": "stream",
     "text": [
      "Vocabulary size after cleaning and retraining: 3266\n"
     ]
    }
   ],
   "source": [
    "# Remove empty strings and NaN values\n",
    "df = df.dropna(subset=[\"ClaimDescriptionClean\"])\n",
    "df = df[df[\"ClaimDescriptionClean\"] != \"\"]\n",
    "\n",
    "# Retokenize and retrain\n",
    "tokenized_descriptions = [claim.split() for claim in df[\"ClaimDescriptionClean\"]]\n",
    "model = Word2Vec(sentences=tokenized_descriptions, vector_size=100, window=5, min_count=1, workers=4)\n",
    "\n",
    "print(\"Vocabulary size after cleaning and retraining:\", len(model.wv.key_to_index))"
   ]
  },
  {
   "cell_type": "code",
   "execution_count": 33,
   "metadata": {},
   "outputs": [
    {
     "name": "stdout",
     "output_type": "stream",
     "text": [
      "Resulting embedding: [-0.9775627   0.44275543 -0.41284    -0.40897802 -0.06790375  0.30826783\n",
      " -0.4242669   1.1426544   0.05456142 -0.34557506  0.0488385  -1.1742885\n",
      "  0.47741154 -0.07982513 -0.03417675 -0.52236414  0.26898977 -0.21490087\n",
      " -0.49601355 -0.8770266  -0.23530643 -0.33347666  0.40375614  0.58532083\n",
      " -0.35747135  0.06902069  0.45795214 -0.20836042 -0.21519987  0.2960032\n",
      "  0.2575599  -0.30068287 -0.21617036 -1.0745366   0.04065526  0.10200892\n",
      "  0.29649356 -0.355785   -0.15336286  0.78445244  0.3669368   0.25044766\n",
      " -0.2948297  -0.03704479  0.569672   -0.42191538 -0.0492241   0.1857587\n",
      " -0.00294836 -0.49671838  0.80180573 -0.06550356  0.3834528  -0.78904986\n",
      " -0.38627434 -0.8325042   0.20872398 -0.5558143   0.17717378 -0.1198346\n",
      "  0.3426019  -0.42826006  0.6677335   0.3154473  -0.48607585  0.20685141\n",
      "  0.44175252  0.5636508  -0.21016036  0.20216697  0.5540908   0.33905467\n",
      "  0.20184489  0.28897095  0.4661868   0.14651869  0.5125006   0.04848874\n",
      "  0.0423799   0.15922861 -0.23485939 -0.24191982 -0.5432064   0.20771605\n",
      " -0.3209936  -0.62209827  0.8553931   0.41142607  0.42473146  0.33124766\n",
      "  0.21167773  0.5416071   0.54797095 -0.57414544  1.34739     0.54666764\n",
      "  0.38821122 -0.23765254  0.07254507 -0.40870532]\n"
     ]
    }
   ],
   "source": [
    "# Test the function\n",
    "result = create_embedding(df[\"ClaimDescriptionClean\"][3])\n",
    "print(\"Resulting embedding:\", result)"
   ]
  },
  {
   "cell_type": "code",
   "execution_count": 39,
   "metadata": {},
   "outputs": [],
   "source": [
    "df[\"ClaimDescriptionEmbedding\"] = df[\"ClaimDescriptionClean\"].apply(create_embedding)"
   ]
  },
  {
   "cell_type": "code",
   "execution_count": 40,
   "metadata": {},
   "outputs": [
    {
     "data": {
      "text/plain": [
       "array([-0.9775627 ,  0.44275543, -0.41284   , -0.40897802, -0.06790375,\n",
       "        0.30826783, -0.4242669 ,  1.1426544 ,  0.05456142, -0.34557506,\n",
       "        0.0488385 , -1.1742885 ,  0.47741154, -0.07982513, -0.03417675,\n",
       "       -0.52236414,  0.26898977, -0.21490087, -0.49601355, -0.8770266 ,\n",
       "       -0.23530643, -0.33347666,  0.40375614,  0.58532083, -0.35747135,\n",
       "        0.06902069,  0.45795214, -0.20836042, -0.21519987,  0.2960032 ,\n",
       "        0.2575599 , -0.30068287, -0.21617036, -1.0745366 ,  0.04065526,\n",
       "        0.10200892,  0.29649356, -0.355785  , -0.15336286,  0.78445244,\n",
       "        0.3669368 ,  0.25044766, -0.2948297 , -0.03704479,  0.569672  ,\n",
       "       -0.42191538, -0.0492241 ,  0.1857587 , -0.00294836, -0.49671838,\n",
       "        0.80180573, -0.06550356,  0.3834528 , -0.78904986, -0.38627434,\n",
       "       -0.8325042 ,  0.20872398, -0.5558143 ,  0.17717378, -0.1198346 ,\n",
       "        0.3426019 , -0.42826006,  0.6677335 ,  0.3154473 , -0.48607585,\n",
       "        0.20685141,  0.44175252,  0.5636508 , -0.21016036,  0.20216697,\n",
       "        0.5540908 ,  0.33905467,  0.20184489,  0.28897095,  0.4661868 ,\n",
       "        0.14651869,  0.5125006 ,  0.04848874,  0.0423799 ,  0.15922861,\n",
       "       -0.23485939, -0.24191982, -0.5432064 ,  0.20771605, -0.3209936 ,\n",
       "       -0.62209827,  0.8553931 ,  0.41142607,  0.42473146,  0.33124766,\n",
       "        0.21167773,  0.5416071 ,  0.54797095, -0.57414544,  1.34739   ,\n",
       "        0.54666764,  0.38821122, -0.23765254,  0.07254507, -0.40870532],\n",
       "      dtype=float32)"
      ]
     },
     "execution_count": 40,
     "metadata": {},
     "output_type": "execute_result"
    }
   ],
   "source": [
    "df[\"ClaimDescriptionEmbedding\"][3]"
   ]
  },
  {
   "cell_type": "code",
   "execution_count": 41,
   "metadata": {},
   "outputs": [
    {
     "name": "stdout",
     "output_type": "stream",
     "text": [
      "Similarity between claim 1 and claim 2: 0.6775350570678711\n"
     ]
    }
   ],
   "source": [
    "from sklearn.metrics.pairwise import cosine_similarity\n",
    "\n",
    "def compare_claims(claim1_embedding, claim2_embedding):\n",
    "    similarity = cosine_similarity([claim1_embedding], [claim2_embedding])[0][0]\n",
    "    return similarity\n",
    "\n",
    "# Example usage\n",
    "claim1_embedding = create_embedding(df[\"ClaimDescriptionClean\"][0])\n",
    "claim2_embedding = create_embedding(df[\"ClaimDescriptionClean\"][1])\n",
    "\n",
    "similarity = compare_claims(claim1_embedding, claim2_embedding)\n",
    "print(f\"Similarity between claim 1 and claim 2: {similarity}\")"
   ]
  },
  {
   "cell_type": "code",
   "execution_count": 42,
   "metadata": {},
   "outputs": [
    {
     "name": "stdout",
     "output_type": "stream",
     "text": [
      "\n",
      "Cluster 0 claims:\n",
      "9     struck pine dust abrasion left eye irritation\n",
      "14          emptying bin fish bone foreign body eye\n",
      "42       struck dust grinding foreign body left eye\n",
      "Name: ClaimDescriptionClean, dtype: object\n",
      "\n",
      "Cluster 1 claims:\n",
      "3              digging lower back lower back strain\n",
      "10    strained muscle back strained lower back pain\n",
      "12                              picking parcel back\n",
      "Name: ClaimDescriptionClean, dtype: object\n",
      "\n",
      "Cluster 2 claims:\n",
      "0           lifting tyre injury right arm wrist injury\n",
      "1    stepped around crate truck tray fracture left ...\n",
      "4    reaching shoulder level acute muscle strain le...\n",
      "Name: ClaimDescriptionClean, dtype: object\n",
      "\n",
      "Cluster 3 claims:\n",
      "2                        cut sharp edge cut left thumb\n",
      "5                      struck head head lacerated head\n",
      "8    jack slipped catching finger cut left little f...\n",
      "Name: ClaimDescriptionClean, dtype: object\n",
      "\n",
      "Cluster 4 claims:\n",
      "106             car accident truck car accident\n",
      "208    motor vehicle accident whiplash abrasion\n",
      "227                back motor vehicle back pain\n",
      "Name: ClaimDescriptionClean, dtype: object\n"
     ]
    }
   ],
   "source": [
    "from sklearn.cluster import KMeans\n",
    "\n",
    "# Create embeddings for all claims\n",
    "all_embeddings = np.array([create_embedding(claim) for claim in df[\"ClaimDescriptionClean\"]])\n",
    "\n",
    "# Perform K-means clustering\n",
    "kmeans = KMeans(n_clusters=5, random_state=42)\n",
    "cluster_labels = kmeans.fit_predict(all_embeddings)\n",
    "\n",
    "# Add cluster labels to the dataframe\n",
    "df[\"ClusterLabel\"] = cluster_labels\n",
    "\n",
    "# View some claims from each cluster\n",
    "for cluster in range(5):\n",
    "    print(f\"\\nCluster {cluster} claims:\")\n",
    "    print(df[df[\"ClusterLabel\"] == cluster][\"ClaimDescriptionClean\"].head(3))"
   ]
  },
  {
   "cell_type": "code",
   "execution_count": 47,
   "metadata": {},
   "outputs": [
    {
     "data": {
      "text/plain": [
       "Index(['ClaimNumber', 'DateTimeOfAccident', 'DateReported', 'Age', 'Gender',\n",
       "       'MaritalStatus', 'DependentChildren', 'DependentsOther', 'WeeklyWages',\n",
       "       'PartTimeFullTime', 'HoursWorkedPerWeek', 'DaysWorkedPerWeek',\n",
       "       'ClaimDescription', 'InitialIncurredCalimsCost',\n",
       "       'UltimateIncurredClaimCost', 'ClaimDescriptionClean',\n",
       "       'ClaimDescriptionEmbedding', 'ClusterLabel'],\n",
       "      dtype='object')"
      ]
     },
     "execution_count": 47,
     "metadata": {},
     "output_type": "execute_result"
    }
   ],
   "source": [
    "df.columns"
   ]
  },
  {
   "cell_type": "code",
   "execution_count": 46,
   "metadata": {},
   "outputs": [
    {
     "data": {
      "text/plain": [
       "0        2\n",
       "1        2\n",
       "2        3\n",
       "3        1\n",
       "4        2\n",
       "        ..\n",
       "53995    3\n",
       "53996    2\n",
       "53997    3\n",
       "53998    3\n",
       "53999    3\n",
       "Name: ClusterLabel, Length: 54000, dtype: int32"
      ]
     },
     "execution_count": 46,
     "metadata": {},
     "output_type": "execute_result"
    }
   ],
   "source": [
    "df[\"ClusterLabel\"]"
   ]
  },
  {
   "cell_type": "code",
   "execution_count": null,
   "metadata": {},
   "outputs": [],
   "source": [
    "from sklearn.metrics.pairwise import cosine_similarity\n",
    "\n",
    "def find_similar_claims(target_claim, n=5):\n",
    "    target_embedding = create_embedding(target_claim)\n",
    "    all_embeddings = np.array([create_embedding(claim) for claim in df[\"ClaimDescriptionClean\"]])\n",
    "    \n",
    "    similarities = cosine_similarity([target_embedding], all_embeddings)[0]\n",
    "    top_indices = similarities.argsort()[-n:][::-1]\n",
    "    \n",
    "    return df.iloc[top_indices][[\"ClaimDescriptionClean\"]]\n",
    "\n",
    "# Example usage\n",
    "target_claim = df[\"ClaimDescriptionClean\"][0]\n",
    "similar_claims = find_similar_claims(target_claim)\n",
    "print(\"Target claim:\", target_claim)\n",
    "print(\"\\nSimilar claims:\")\n",
    "print(similar_claims)"
   ]
  },
  {
   "cell_type": "code",
   "execution_count": 45,
   "metadata": {},
   "outputs": [
    {
     "data": {
      "image/png": "[encoded data removed]",
      "text/plain": [
       "<Figure size 1000x1000 with 1 Axes>"
      ]
     },
     "metadata": {},
     "output_type": "display_data"
    }
   ],
   "source": [
    "#Most common pairs of words that occur together in Claim Description\n",
    "\n",
    "plt.figsize=((25,30))\n",
    "dic_words_freq = nltk.FreqDist(nltk.ngrams(list_tokens, 2))\n",
    "dtf_bi = pd.DataFrame(dic_words_freq.most_common(), \n",
    "                      columns=[\"Word\",\"Freq\"])\n",
    "dtf_bi[\"Word\"] = dtf_bi[\"Word\"].apply(lambda x: \" \".join(\n",
    "                   string for string in x) )\n",
    "dtf_bi.set_index(\"Word\").iloc[:30,:].sort_values(by=\"Freq\").plot(kind=\"barh\",figsize=(10,10))\n",
    "plt.title('Bigrams')\n",
    "                  \n",
    "plt.show()"
   ]
  }
 ],
 "metadata": {
  "kernelspec": {
   "display_name": "kaggle-projects-l_2b9_F_-py3.10",
   "language": "python",
   "name": "python3"
  },
  "language_info": {
   "codemirror_mode": {
    "name": "ipython",
    "version": 3
   },
   "file_extension": ".py",
   "mimetype": "text/x-python",
   "name": "python",
   "nbconvert_exporter": "python",
   "pygments_lexer": "ipython3",
   "version": "3.12.0"
  }
 },
 "nbformat": 4,
 "nbformat_minor": 2
}
