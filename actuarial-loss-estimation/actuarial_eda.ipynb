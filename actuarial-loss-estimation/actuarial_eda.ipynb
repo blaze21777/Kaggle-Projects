{
 "cells": [
  {
   "cell_type": "code",
   "execution_count": 1,
   "metadata": {},
   "outputs": [],
   "source": [
    "import pandas as pd\n",
    "import matplotlib.pyplot as plt\n",
    "import seaborn as sns\n",
    "import numpy as np\n",
    "from sklearn.model_selection import train_test_split\n",
    "from xgboost import XGBRegressor, plot_tree\n",
    "from sklearn.metrics import mean_squared_error"
   ]
  },
  {
   "cell_type": "code",
   "execution_count": null,
   "metadata": {},
   "outputs": [],
   "source": [
    "df = pd.read_csv('train.csv')\n",
    "df.head()"
   ]
  },
  {
   "cell_type": "code",
   "execution_count": null,
   "metadata": {},
   "outputs": [],
   "source": [
    "print(\"before:\", df.shape)\n",
    "df = df.drop_duplicates()\n",
    "print(\"After:\", df.shape)"
   ]
  },
  {
   "cell_type": "code",
   "execution_count": null,
   "metadata": {},
   "outputs": [],
   "source": [
    "# convert objects to date type\n",
    "df.DateReported = pd.to_datetime(df.DateReported, format='ISO8601')\n",
    "df.DateTimeOfAccident = pd.to_datetime(df.DateTimeOfAccident, format='ISO8601')\n",
    "print(df.DateReported.dtype, df.DateTimeOfAccident.dtype)\n",
    "df.head()"
   ]
  },
  {
   "cell_type": "code",
   "execution_count": null,
   "metadata": {},
   "outputs": [],
   "source": [
    "df.isna().sum()"
   ]
  },
  {
   "cell_type": "code",
   "execution_count": null,
   "metadata": {},
   "outputs": [],
   "source": [
    "df.MaritalStatus.unique()"
   ]
  },
  {
   "cell_type": "code",
   "execution_count": null,
   "metadata": {},
   "outputs": [],
   "source": [
    "print(\"before:\", df.shape)\n",
    "df.dropna(axis='index', inplace=True)\n",
    "print(\"After:\", df.shape)"
   ]
  },
  {
   "cell_type": "code",
   "execution_count": null,
   "metadata": {},
   "outputs": [],
   "source": [
    "# replace nan values with unknown \n",
    "df.MaritalStatus = df.MaritalStatus.fillna('Unknown')\n",
    "df.MaritalStatus.unique()"
   ]
  },
  {
   "cell_type": "code",
   "execution_count": null,
   "metadata": {},
   "outputs": [],
   "source": [
    "df.skew(numeric_only=True)"
   ]
  },
  {
   "cell_type": "code",
   "execution_count": null,
   "metadata": {},
   "outputs": [],
   "source": [
    "df.hist(figsize=(15, 10))\n",
    "plt.show()"
   ]
  },
  {
   "cell_type": "code",
   "execution_count": null,
   "metadata": {},
   "outputs": [],
   "source": [
    "df.boxplot(figsize=(15, 10))\n",
    "plt.show()"
   ]
  },
  {
   "cell_type": "code",
   "execution_count": 38,
   "metadata": {},
   "outputs": [],
   "source": [
    "def cap_outliers(series, lower_percentile=0.05, upper_percentile=0.95):\n",
    "    lower_bound = series.quantile(lower_percentile)\n",
    "    upper_bound = series.quantile(upper_percentile)\n",
    "    return series.clip(lower_bound, upper_bound)"
   ]
  },
  {
   "cell_type": "code",
   "execution_count": 39,
   "metadata": {},
   "outputs": [],
   "source": [
    "columns_to_cap = list(df.select_dtypes(include=['number']).columns)\n",
    "\n",
    "for column in columns_to_cap:\n",
    "    df[column] = cap_outliers(df[column])"
   ]
  },
  {
   "cell_type": "code",
   "execution_count": null,
   "metadata": {},
   "outputs": [],
   "source": [
    "df.hist(figsize=(15, 10))\n",
    "plt.show()"
   ]
  },
  {
   "cell_type": "code",
   "execution_count": null,
   "metadata": {},
   "outputs": [],
   "source": [
    "df.boxplot(figsize=(15, 10))\n",
    "plt.show()"
   ]
  },
  {
   "cell_type": "code",
   "execution_count": null,
   "metadata": {},
   "outputs": [],
   "source": [
    "for col in columns_to_cap:\n",
    "    df[col].plot.box(figsize=(8, 5))  # Adjust figsize as needed\n",
    "    plt.title(col)  # Add title for each boxplot\n",
    "    plt.show()\n",
    "    plt.clf()  # Clear the plot for the next iteration"
   ]
  },
  {
   "cell_type": "code",
   "execution_count": null,
   "metadata": {},
   "outputs": [],
   "source": [
    "df.skew(numeric_only=True)"
   ]
  },
  {
   "cell_type": "code",
   "execution_count": null,
   "metadata": {},
   "outputs": [],
   "source": [
    "plt.figure(figsize=(10, 6))  # Optional: Set the figure size\n",
    "plt.hist(df['DateTimeOfAccident'], bins=100, edgecolor='black')\n",
    "plt.xlabel('Date and Time of Accident')\n",
    "plt.ylabel('Frequency')\n",
    "plt.title('Accident Date and Time Distribution')\n",
    "# plt.grid(True)  # Optional: Add grid lines\n",
    "plt.show()"
   ]
  },
  {
   "cell_type": "code",
   "execution_count": null,
   "metadata": {},
   "outputs": [],
   "source": [
    "(df.DateReported - df.DateTimeOfAccident).dt.days.lt(0).sum()"
   ]
  },
  {
   "cell_type": "code",
   "execution_count": null,
   "metadata": {},
   "outputs": [],
   "source": [
    "# get data where difference between reported and time is negative \n",
    "df[(df.DateReported - df.DateTimeOfAccident).dt.days.lt(0)]"
   ]
  },
  {
   "cell_type": "code",
   "execution_count": 12,
   "metadata": {},
   "outputs": [],
   "source": [
    "df['DateOfAccident'] = df.DateTimeOfAccident.dt.date\n",
    "df['TimeOfAccident'] = df.DateTimeOfAccident.dt.time\n",
    "\n",
    "datetime_col_index = df.columns.get_loc('DateTimeOfAccident')\n",
    "\n",
    "if not isinstance(datetime_col_index, int):\n",
    "    raise ValueError(\"`datetime_col_index` must be an integer.\")\n",
    "\n",
    "df.insert(datetime_col_index + 1, 'DateOfAccident', df.pop('DateOfAccident'))\n",
    "df.insert(datetime_col_index + 2, 'TimeOfAccident', df.pop('TimeOfAccident'))"
   ]
  },
  {
   "cell_type": "code",
   "execution_count": null,
   "metadata": {},
   "outputs": [],
   "source": [
    "df.dtypes"
   ]
  },
  {
   "cell_type": "code",
   "execution_count": null,
   "metadata": {},
   "outputs": [],
   "source": [
    "# convert objects to date type\n",
    "df.DateOfAccident = pd.to_datetime(df.DateOfAccident, format='ISO8601', utc=True)\n",
    "print(df.DateOfAccident.dtype, df.TimeOfAccident.dtype)\n",
    "df.dtypes"
   ]
  },
  {
   "cell_type": "code",
   "execution_count": null,
   "metadata": {},
   "outputs": [],
   "source": [
    "# some accidents were reported on the same day but date column doesn't have time\n",
    "(df.DateReported - df.DateOfAccident).dt.days.lt(0).sum()"
   ]
  },
  {
   "cell_type": "code",
   "execution_count": null,
   "metadata": {},
   "outputs": [],
   "source": [
    "hour_values = [t.hour for t in df['TimeOfAccident']]\n",
    "\n",
    "plt.figure(figsize=(10, 6))\n",
    "plt.hist(hour_values, bins=24, edgecolor='black')\n",
    "plt.xlabel('Hour of Accident')\n",
    "plt.ylabel('Frequency')\n",
    "plt.title('Accident Hour Distribution')\n",
    "plt.show()"
   ]
  },
  {
   "cell_type": "code",
   "execution_count": null,
   "metadata": {},
   "outputs": [],
   "source": [
    "df.describe()"
   ]
  },
  {
   "cell_type": "code",
   "execution_count": null,
   "metadata": {},
   "outputs": [],
   "source": [
    "df.describe(include=['object'])"
   ]
  },
  {
   "cell_type": "code",
   "execution_count": null,
   "metadata": {},
   "outputs": [],
   "source": [
    "df.Gender.unique()"
   ]
  },
  {
   "cell_type": "code",
   "execution_count": null,
   "metadata": {},
   "outputs": [],
   "source": [
    "# Group by 'TimeOfAccident' and calculate the average age\n",
    "grouped_data = df.groupby('TimeOfAccident')['Age'].mean()\n",
    "\n",
    "# Plot the results\n",
    "grouped_data.plot(kind='bar', title='Average Age by Time of Accident')\n",
    "plt.xlabel('Time of Accident')\n",
    "plt.ylabel('Average Age')\n",
    "plt.show()"
   ]
  },
  {
   "cell_type": "code",
   "execution_count": null,
   "metadata": {},
   "outputs": [],
   "source": [
    "df.columns"
   ]
  },
  {
   "cell_type": "code",
   "execution_count": 22,
   "metadata": {},
   "outputs": [],
   "source": [
    "df_numeric = df.select_dtypes(include='number')"
   ]
  },
  {
   "cell_type": "code",
   "execution_count": null,
   "metadata": {},
   "outputs": [],
   "source": [
    "correlation_matrix = df_numeric.corr()\n",
    "\n",
    "# Create a mask to hide the upper triangle\n",
    "mask = np.triu(np.ones_like(correlation_matrix, dtype=bool))\n",
    "\n",
    "# Create the heatmap\n",
    "sns.heatmap(correlation_matrix, annot=True, cmap=\"coolwarm\", mask=mask)\n",
    "\n",
    "# Set the title and labels\n",
    "plt.title(\"Correlation Matrix\")\n",
    "plt.xlabel(\"Features\")\n",
    "plt.ylabel(\"Features\")\n",
    "plt.show()"
   ]
  },
  {
   "cell_type": "code",
   "execution_count": null,
   "metadata": {},
   "outputs": [],
   "source": [
    "df.columns"
   ]
  },
  {
   "cell_type": "code",
   "execution_count": null,
   "metadata": {},
   "outputs": [],
   "source": [
    "df_encoded = pd.get_dummies(\n",
    "    df[\n",
    "        [\n",
    "            # \"DateTimeOfAccident\",\n",
    "            # \"DateOfAccident\",\n",
    "            # \"DateReported\",\n",
    "            \"Age\",\n",
    "            \"Gender\",\n",
    "            \"MaritalStatus\",\n",
    "            \"DependentChildren\",\n",
    "            \"DependentsOther\",\n",
    "            \"WeeklyWages\",\n",
    "            \"PartTimeFullTime\",\n",
    "            \"HoursWorkedPerWeek\",\n",
    "            \"DaysWorkedPerWeek\",\n",
    "            \"InitialIncurredCalimsCost\",\n",
    "            \"UltimateIncurredClaimCost\",\n",
    "        ]\n",
    "    ],\n",
    ")\n",
    "df_encoded.head()"
   ]
  },
  {
   "cell_type": "code",
   "execution_count": 159,
   "metadata": {},
   "outputs": [],
   "source": [
    "X = df_encoded.drop(columns=['UltimateIncurredClaimCost'])\n",
    "y = df_encoded.UltimateIncurredClaimCost\n",
    "\n",
    "X_train, X_test, y_train, y_test = train_test_split(\n",
    "    X, y, test_size=0.2, random_state=42\n",
    ")"
   ]
  },
  {
   "cell_type": "code",
   "execution_count": null,
   "metadata": {},
   "outputs": [],
   "source": [
    "model = XGBRegressor()\n",
    "model.fit(X_train, y_train)"
   ]
  },
  {
   "cell_type": "code",
   "execution_count": null,
   "metadata": {},
   "outputs": [],
   "source": [
    "plt.figure(figsize=(20, 8))  # Adjust the width and height as needed\n",
    "plot_tree(model, num_trees=0)\n",
    "plt.show()"
   ]
  },
  {
   "cell_type": "code",
   "execution_count": null,
   "metadata": {},
   "outputs": [],
   "source": [
    "model.score(X_test, y_test)"
   ]
  },
  {
   "cell_type": "code",
   "execution_count": null,
   "metadata": {},
   "outputs": [],
   "source": [
    "y_pred = model.predict(X_test)\n",
    "\n",
    "rmse = np.sqrt(mean_squared_error(y_test, y_pred))\n",
    "print(\"RMSE:\", rmse)"
   ]
  },
  {
   "cell_type": "code",
   "execution_count": null,
   "metadata": {},
   "outputs": [],
   "source": [
    "model.fit(X_train, y_train, eval_set=[(X_test, y_test)], verbose=False)\n",
    "\n",
    "# Access training and evaluation results\n",
    "results = model.evals_result()\n",
    "rmse = results['validation_0']['rmse'][0]\n",
    "print(\"RMSE:\", rmse)"
   ]
  },
  {
   "cell_type": "code",
   "execution_count": null,
   "metadata": {},
   "outputs": [],
   "source": [
    "plt.scatter(y_test, y_pred)\n",
    "plt.xlabel(\"Actual Values\")\n",
    "plt.ylabel(\"Predicted Values\")\n",
    "plt.title(\"Actual vs. Predicted Values\")\n",
    "plt.show()"
   ]
  },
  {
   "cell_type": "code",
   "execution_count": null,
   "metadata": {},
   "outputs": [],
   "source": [
    "plt.scatter(df_encoded.index, df_encoded.UltimateIncurredClaimCost)\n",
    "plt.gca().ticklabel_format(axis='y', style='plain', useOffset=False)\n",
    "plt.xlabel(\"Index\")\n",
    "plt.ylabel(\"Ultimate Incurred Claim Cost\")\n",
    "plt.title(\"Ultimate Incurred Claim Cost\")\n",
    "plt.show()"
   ]
  },
  {
   "cell_type": "code",
   "execution_count": null,
   "metadata": {},
   "outputs": [],
   "source": [
    "# Filter the DataFrame based on your condition\n",
    "filtered_df = df_encoded[df_encoded.UltimateIncurredClaimCost < 3500000]\n",
    "\n",
    "# Extract the index and filtered column\n",
    "filtered_index = filtered_df.index\n",
    "filtered_cost = filtered_df[\"UltimateIncurredClaimCost\"]\n",
    "\n",
    "plt.scatter(filtered_index, filtered_cost)\n",
    "plt.gca().ticklabel_format(axis='y', style='plain', useOffset=False)\n",
    "plt.xlabel(\"Index\")\n",
    "plt.ylabel(\"Ultimate Incurred Claim Cost\")\n",
    "plt.title(\"Ultimate Incurred Claim Cost (Below 3.5 Million)\")\n",
    "plt.show()"
   ]
  },
  {
   "cell_type": "code",
   "execution_count": null,
   "metadata": {},
   "outputs": [],
   "source": [
    "# Extract feature importance\n",
    "feature_importance = model.feature_importances_\n",
    "\n",
    "# Print the feature importance scores\n",
    "for feature, importance in zip(X_train.columns, feature_importance):\n",
    "    print(f\"{feature}: {importance:.2f}\")"
   ]
  },
  {
   "cell_type": "code",
   "execution_count": null,
   "metadata": {},
   "outputs": [],
   "source": [
    "# Plot the feature importance scores\n",
    "plt.bar(X_train.columns, feature_importance)\n",
    "plt.xlabel(\"Features\")\n",
    "plt.ylabel(\"Importance\")\n",
    "plt.title(\"Feature Importance\")\n",
    "plt.xticks(rotation=90)\n",
    "plt.show()"
   ]
  }
 ],
 "metadata": {
  "kernelspec": {
   "display_name": "genre-classification",
   "language": "python",
   "name": "python3"
  },
  "language_info": {
   "codemirror_mode": {
    "name": "ipython",
    "version": 3
   },
   "file_extension": ".py",
   "mimetype": "text/x-python",
   "name": "python",
   "nbconvert_exporter": "python",
   "pygments_lexer": "ipython3",
   "version": "3.12.0"
  }
 },
 "nbformat": 4,
 "nbformat_minor": 2
}
