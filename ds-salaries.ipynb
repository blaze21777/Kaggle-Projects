{
 "cells": [
  {
   "cell_type": "code",
   "execution_count": 1,
   "id": "780f813a",
   "metadata": {
    "_cell_guid": "b1076dfc-b9ad-4769-8c92-a6c4dae69d19",
    "_uuid": "8f2839f25d086af736a60e9eeb907d3b93b6e0e5",
    "execution": {
     "iopub.execute_input": "2022-08-23T10:21:14.378860Z",
     "iopub.status.busy": "2022-08-23T10:21:14.378047Z",
     "iopub.status.idle": "2022-08-23T10:21:14.397209Z",
     "shell.execute_reply": "2022-08-23T10:21:14.396178Z"
    },
    "papermill": {
     "duration": 0.027238,
     "end_time": "2022-08-23T10:21:14.400598",
     "exception": false,
     "start_time": "2022-08-23T10:21:14.373360",
     "status": "completed"
    },
    "tags": []
   },
   "outputs": [
    {
     "name": "stdout",
     "output_type": "stream",
     "text": [
      "/kaggle/input/data-science-job-salaries/ds_salaries.csv\n"
     ]
    }
   ],
   "source": [
    "# This Python 3 environment comes with many helpful analytics libraries installed\n",
    "# It is defined by the kaggle/python Docker image: https://github.com/kaggle/docker-python\n",
    "# For example, here's several helpful packages to load\n",
    "\n",
    "import numpy as np # linear algebra\n",
    "import pandas as pd # data processing, CSV file I/O (e.g. pd.read_csv)\n",
    "\n",
    "# Input data files are available in the read-only \"../input/\" directory\n",
    "# For example, running this (by clicking run or pressing Shift+Enter) will list all files under the input directory\n",
    "\n",
    "import os\n",
    "for dirname, _, filenames in os.walk('/kaggle/input'):\n",
    "    for filename in filenames:\n",
    "        print(os.path.join(dirname, filename))\n",
    "\n",
    "# You can write up to 20GB to the current directory (/kaggle/working/) that gets preserved as output when you create a version using \"Save & Run All\" \n",
    "# You can also write temporary files to /kaggle/temp/, but they won't be saved outside of the current session"
   ]
  },
  {
   "cell_type": "code",
   "execution_count": 2,
   "id": "be2b69f7",
   "metadata": {
    "execution": {
     "iopub.execute_input": "2022-08-23T10:21:14.408770Z",
     "iopub.status.busy": "2022-08-23T10:21:14.408026Z",
     "iopub.status.idle": "2022-08-23T10:21:14.412898Z",
     "shell.execute_reply": "2022-08-23T10:21:14.411593Z"
    },
    "papermill": {
     "duration": 0.010976,
     "end_time": "2022-08-23T10:21:14.415356",
     "exception": false,
     "start_time": "2022-08-23T10:21:14.404380",
     "status": "completed"
    },
    "tags": []
   },
   "outputs": [],
   "source": [
    "import pandas as pd"
   ]
  },
  {
   "cell_type": "code",
   "execution_count": 3,
   "id": "939376d8",
   "metadata": {
    "execution": {
     "iopub.execute_input": "2022-08-23T10:21:14.421612Z",
     "iopub.status.busy": "2022-08-23T10:21:14.420928Z",
     "iopub.status.idle": "2022-08-23T10:21:14.436964Z",
     "shell.execute_reply": "2022-08-23T10:21:14.436032Z"
    },
    "papermill": {
     "duration": 0.022175,
     "end_time": "2022-08-23T10:21:14.439778",
     "exception": false,
     "start_time": "2022-08-23T10:21:14.417603",
     "status": "completed"
    },
    "tags": []
   },
   "outputs": [],
   "source": [
    "data = pd.read_csv('../input/data-science-job-salaries/ds_salaries.csv')"
   ]
  }
 ],
 "metadata": {
  "kernelspec": {
   "display_name": "Python 3",
   "language": "python",
   "name": "python3"
  },
  "language_info": {
   "codemirror_mode": {
    "name": "ipython",
    "version": 3
   },
   "file_extension": ".py",
   "mimetype": "text/x-python",
   "name": "python",
   "nbconvert_exporter": "python",
   "pygments_lexer": "ipython3",
   "version": "3.7.12"
  },
  "papermill": {
   "default_parameters": {},
   "duration": 10.465031,
   "end_time": "2022-08-23T10:21:15.063384",
   "environment_variables": {},
   "exception": null,
   "input_path": "__notebook__.ipynb",
   "output_path": "__notebook__.ipynb",
   "parameters": {},
   "start_time": "2022-08-23T10:21:04.598353",
   "version": "2.3.4"
  }
 },
 "nbformat": 4,
 "nbformat_minor": 5
}
